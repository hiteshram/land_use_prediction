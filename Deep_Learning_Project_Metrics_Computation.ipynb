{
  "nbformat": 4,
  "nbformat_minor": 0,
  "metadata": {
    "accelerator": "TPU",
    "colab": {
      "name": "Deep Learning Project Metrics Computation.ipynb",
      "provenance": [],
      "collapsed_sections": [],
      "machine_shape": "hm"
    },
    "kernelspec": {
      "display_name": "Python 3",
      "name": "python3"
    },
    "language_info": {
      "name": "python"
    },
    "widgets": {
      "application/vnd.jupyter.widget-state+json": {
        "b5eb30bc105542cfb39b11c99a2e23c9": {
          "model_module": "@jupyter-widgets/controls",
          "model_name": "HBoxModel",
          "state": {
            "_view_name": "HBoxView",
            "_dom_classes": [],
            "_model_name": "HBoxModel",
            "_view_module": "@jupyter-widgets/controls",
            "_model_module_version": "1.5.0",
            "_view_count": null,
            "_view_module_version": "1.5.0",
            "box_style": "",
            "layout": "IPY_MODEL_aeda27d2550540ebba5b4f0427db355c",
            "_model_module": "@jupyter-widgets/controls",
            "children": [
              "IPY_MODEL_b75afdfa9cc64849aa535d4b3e408435",
              "IPY_MODEL_79bee0ca17ad40d4b6806a14e59d7340"
            ]
          }
        },
        "aeda27d2550540ebba5b4f0427db355c": {
          "model_module": "@jupyter-widgets/base",
          "model_name": "LayoutModel",
          "state": {
            "_view_name": "LayoutView",
            "grid_template_rows": null,
            "right": null,
            "justify_content": null,
            "_view_module": "@jupyter-widgets/base",
            "overflow": null,
            "_model_module_version": "1.2.0",
            "_view_count": null,
            "flex_flow": null,
            "width": null,
            "min_width": null,
            "border": null,
            "align_items": null,
            "bottom": null,
            "_model_module": "@jupyter-widgets/base",
            "top": null,
            "grid_column": null,
            "overflow_y": null,
            "overflow_x": null,
            "grid_auto_flow": null,
            "grid_area": null,
            "grid_template_columns": null,
            "flex": null,
            "_model_name": "LayoutModel",
            "justify_items": null,
            "grid_row": null,
            "max_height": null,
            "align_content": null,
            "visibility": null,
            "align_self": null,
            "height": null,
            "min_height": null,
            "padding": null,
            "grid_auto_rows": null,
            "grid_gap": null,
            "max_width": null,
            "order": null,
            "_view_module_version": "1.2.0",
            "grid_template_areas": null,
            "object_position": null,
            "object_fit": null,
            "grid_auto_columns": null,
            "margin": null,
            "display": null,
            "left": null
          }
        },
        "b75afdfa9cc64849aa535d4b3e408435": {
          "model_module": "@jupyter-widgets/controls",
          "model_name": "FloatProgressModel",
          "state": {
            "_view_name": "ProgressView",
            "style": "IPY_MODEL_61859e92e0974b32be8934971ce92129",
            "_dom_classes": [],
            "description": "100%",
            "_model_name": "FloatProgressModel",
            "bar_style": "success",
            "max": 2100,
            "_view_module": "@jupyter-widgets/controls",
            "_model_module_version": "1.5.0",
            "value": 2100,
            "_view_count": null,
            "_view_module_version": "1.5.0",
            "orientation": "horizontal",
            "min": 0,
            "description_tooltip": null,
            "_model_module": "@jupyter-widgets/controls",
            "layout": "IPY_MODEL_01212247e5fc4cb78294b90f32a46c16"
          }
        },
        "79bee0ca17ad40d4b6806a14e59d7340": {
          "model_module": "@jupyter-widgets/controls",
          "model_name": "HTMLModel",
          "state": {
            "_view_name": "HTMLView",
            "style": "IPY_MODEL_5e872ca54b414ea18319517c35b70798",
            "_dom_classes": [],
            "description": "",
            "_model_name": "HTMLModel",
            "placeholder": "​",
            "_view_module": "@jupyter-widgets/controls",
            "_model_module_version": "1.5.0",
            "value": " 2100/2100 [07:57&lt;00:00,  4.40it/s]",
            "_view_count": null,
            "_view_module_version": "1.5.0",
            "description_tooltip": null,
            "_model_module": "@jupyter-widgets/controls",
            "layout": "IPY_MODEL_fa8406b6268e45c88b1f8fc2183af9e3"
          }
        },
        "61859e92e0974b32be8934971ce92129": {
          "model_module": "@jupyter-widgets/controls",
          "model_name": "ProgressStyleModel",
          "state": {
            "_view_name": "StyleView",
            "_model_name": "ProgressStyleModel",
            "description_width": "initial",
            "_view_module": "@jupyter-widgets/base",
            "_model_module_version": "1.5.0",
            "_view_count": null,
            "_view_module_version": "1.2.0",
            "bar_color": null,
            "_model_module": "@jupyter-widgets/controls"
          }
        },
        "01212247e5fc4cb78294b90f32a46c16": {
          "model_module": "@jupyter-widgets/base",
          "model_name": "LayoutModel",
          "state": {
            "_view_name": "LayoutView",
            "grid_template_rows": null,
            "right": null,
            "justify_content": null,
            "_view_module": "@jupyter-widgets/base",
            "overflow": null,
            "_model_module_version": "1.2.0",
            "_view_count": null,
            "flex_flow": null,
            "width": null,
            "min_width": null,
            "border": null,
            "align_items": null,
            "bottom": null,
            "_model_module": "@jupyter-widgets/base",
            "top": null,
            "grid_column": null,
            "overflow_y": null,
            "overflow_x": null,
            "grid_auto_flow": null,
            "grid_area": null,
            "grid_template_columns": null,
            "flex": null,
            "_model_name": "LayoutModel",
            "justify_items": null,
            "grid_row": null,
            "max_height": null,
            "align_content": null,
            "visibility": null,
            "align_self": null,
            "height": null,
            "min_height": null,
            "padding": null,
            "grid_auto_rows": null,
            "grid_gap": null,
            "max_width": null,
            "order": null,
            "_view_module_version": "1.2.0",
            "grid_template_areas": null,
            "object_position": null,
            "object_fit": null,
            "grid_auto_columns": null,
            "margin": null,
            "display": null,
            "left": null
          }
        },
        "5e872ca54b414ea18319517c35b70798": {
          "model_module": "@jupyter-widgets/controls",
          "model_name": "DescriptionStyleModel",
          "state": {
            "_view_name": "StyleView",
            "_model_name": "DescriptionStyleModel",
            "description_width": "",
            "_view_module": "@jupyter-widgets/base",
            "_model_module_version": "1.5.0",
            "_view_count": null,
            "_view_module_version": "1.2.0",
            "_model_module": "@jupyter-widgets/controls"
          }
        },
        "fa8406b6268e45c88b1f8fc2183af9e3": {
          "model_module": "@jupyter-widgets/base",
          "model_name": "LayoutModel",
          "state": {
            "_view_name": "LayoutView",
            "grid_template_rows": null,
            "right": null,
            "justify_content": null,
            "_view_module": "@jupyter-widgets/base",
            "overflow": null,
            "_model_module_version": "1.2.0",
            "_view_count": null,
            "flex_flow": null,
            "width": null,
            "min_width": null,
            "border": null,
            "align_items": null,
            "bottom": null,
            "_model_module": "@jupyter-widgets/base",
            "top": null,
            "grid_column": null,
            "overflow_y": null,
            "overflow_x": null,
            "grid_auto_flow": null,
            "grid_area": null,
            "grid_template_columns": null,
            "flex": null,
            "_model_name": "LayoutModel",
            "justify_items": null,
            "grid_row": null,
            "max_height": null,
            "align_content": null,
            "visibility": null,
            "align_self": null,
            "height": null,
            "min_height": null,
            "padding": null,
            "grid_auto_rows": null,
            "grid_gap": null,
            "max_width": null,
            "order": null,
            "_view_module_version": "1.2.0",
            "grid_template_areas": null,
            "object_position": null,
            "object_fit": null,
            "grid_auto_columns": null,
            "margin": null,
            "display": null,
            "left": null
          }
        }
      }
    }
  },
  "cells": [
    {
      "cell_type": "code",
      "metadata": {
        "id": "9bhd5YUv3Ivj"
      },
      "source": [
        "import os\n",
        "import pandas as pd\n",
        "import numpy as np\n",
        "import cv2\n",
        "import csv\n",
        "import tensorflow as tf\n",
        "import keras\n",
        "from sklearn.model_selection import train_test_split\n",
        "from keras.models import Sequential\n",
        "from keras.layers import Dense, Dropout, Activation, Flatten\n",
        "from keras.layers import Conv2D, MaxPooling2D\n",
        "from keras.layers import BatchNormalization\n",
        "from keras import backend as K\n",
        "from keras.models import model_from_json,load_model\n",
        "\n",
        "from keras.metrics import Precision\n",
        "from keras.metrics import Recall\n",
        "\n",
        "from sklearn.preprocessing import MinMaxScaler\n",
        "from google.colab import drive\n"
      ],
      "execution_count": null,
      "outputs": []
    },
    {
      "cell_type": "code",
      "metadata": {
        "colab": {
          "base_uri": "https://localhost:8080/"
        },
        "id": "w5awhuAf33H1",
        "outputId": "25d81780-19ab-4a1b-f37b-958c7e56a048"
      },
      "source": [
        "drive.mount('/content/drive')"
      ],
      "execution_count": null,
      "outputs": [
        {
          "output_type": "stream",
          "text": [
            "Mounted at /content/drive\n"
          ],
          "name": "stdout"
        }
      ]
    },
    {
      "cell_type": "code",
      "metadata": {
        "id": "iTN_iPIi35Jj"
      },
      "source": [
        "IMG_HEIGHT=256\n",
        "IMG_WIDTH=256\n",
        "IMG_CHANNELS=3"
      ],
      "execution_count": null,
      "outputs": []
    },
    {
      "cell_type": "code",
      "metadata": {
        "id": "KbnDV8mv35xz"
      },
      "source": [
        "folder_path=os.path.join(os.getcwd(),'drive','MyDrive','Colab Notebooks','datasets','UCMerced_LandUse','Images')\n",
        "X_train=list()\n",
        "X_test=list()\n",
        "y_train=list()\n",
        "y_test=list()\n",
        "target=dict()\n",
        "\n",
        "count=0\n",
        "for i in os.listdir(folder_path):\n",
        "    target[i]=count\n",
        "    count=count+1\n"
      ],
      "execution_count": null,
      "outputs": []
    },
    {
      "cell_type": "code",
      "metadata": {
        "id": "YrLxeQiR3--N"
      },
      "source": [
        "val=1\n",
        "train_data=list()\n",
        "target_data=list()\n",
        "\n",
        "for directory in os.listdir(folder_path):\n",
        "    temp_folder=os.path.join(folder_path,directory)\n",
        "    list_files=os.listdir(temp_folder)\n",
        "    for i in range(0,len(list_files)):\n",
        "        temp_path=os.path.join(temp_folder,list_files[i])\n",
        "        train_data.append(temp_path)\n",
        "        target_data.append([target[directory]])"
      ],
      "execution_count": null,
      "outputs": []
    },
    {
      "cell_type": "code",
      "metadata": {
        "colab": {
          "base_uri": "https://localhost:8080/",
          "height": 139,
          "referenced_widgets": [
            "b5eb30bc105542cfb39b11c99a2e23c9",
            "aeda27d2550540ebba5b4f0427db355c",
            "b75afdfa9cc64849aa535d4b3e408435",
            "79bee0ca17ad40d4b6806a14e59d7340",
            "61859e92e0974b32be8934971ce92129",
            "01212247e5fc4cb78294b90f32a46c16",
            "5e872ca54b414ea18319517c35b70798",
            "fa8406b6268e45c88b1f8fc2183af9e3"
          ]
        },
        "id": "2ayshMCs9E97",
        "outputId": "994d4445-1ac7-4ef2-bdac-bbbe8afa015b"
      },
      "source": [
        "from tqdm import tqdm_notebook, tnrange\n",
        "\n",
        "X=list()\n",
        "y=list()\n",
        "\n",
        "for n,val in tqdm_notebook(enumerate(train_data), total=len(train_data)):\n",
        "  img = cv2.imread(train_data[n])\n",
        "  img = cv2.resize(img, (IMG_WIDTH, IMG_HEIGHT))\n",
        "  X.append(img)\n",
        "  \n",
        "X=np.array(X)\n",
        "y=np.array(target_data)"
      ],
      "execution_count": null,
      "outputs": [
        {
          "output_type": "stream",
          "text": [
            "/usr/local/lib/python3.7/dist-packages/ipykernel_launcher.py:6: TqdmDeprecationWarning: This function will be removed in tqdm==5.0.0\n",
            "Please use `tqdm.notebook.tqdm` instead of `tqdm.tqdm_notebook`\n",
            "  \n"
          ],
          "name": "stderr"
        },
        {
          "output_type": "display_data",
          "data": {
            "application/vnd.jupyter.widget-view+json": {
              "model_id": "b5eb30bc105542cfb39b11c99a2e23c9",
              "version_minor": 0,
              "version_major": 2
            },
            "text/plain": [
              "HBox(children=(FloatProgress(value=0.0, max=2100.0), HTML(value='')))"
            ]
          },
          "metadata": {
            "tags": []
          }
        },
        {
          "output_type": "stream",
          "text": [
            "\n"
          ],
          "name": "stdout"
        }
      ]
    },
    {
      "cell_type": "code",
      "metadata": {
        "colab": {
          "base_uri": "https://localhost:8080/"
        },
        "id": "m5GPYdJu3_tr",
        "outputId": "954dce72-49b5-4771-8539-487cf3c4c1ac"
      },
      "source": [
        "X_train, X_valid, y_train, y_valid = train_test_split(X,y, random_state=42, test_size = 0.2 )\n",
        "\n",
        "print(X_train.shape)\n",
        "print(y_train.shape)\n",
        "y_train_backup=np.array(y_train)"
      ],
      "execution_count": null,
      "outputs": [
        {
          "output_type": "stream",
          "text": [
            "(1680, 256, 256, 3)\n",
            "(1680, 1)\n"
          ],
          "name": "stdout"
        }
      ]
    },
    {
      "cell_type": "markdown",
      "metadata": {
        "id": "B5M0BWus_HXj"
      },
      "source": [
        "Data Normalization"
      ]
    },
    {
      "cell_type": "code",
      "metadata": {
        "id": "wiCLCcha-7ez"
      },
      "source": [
        "from keras.utils import normalize, to_categorical\n",
        "\n",
        "X_train = normalize(X_train, axis=1)\n",
        "X_valid = normalize(X_valid, axis=1)\n",
        "\n",
        "y_train = to_categorical(y_train)\n",
        "y_valid = to_categorical(y_valid)\n"
      ],
      "execution_count": null,
      "outputs": []
    },
    {
      "cell_type": "markdown",
      "metadata": {
        "id": "3DeIBTyxvBpO"
      },
      "source": [
        "Model - 1 "
      ]
    },
    {
      "cell_type": "markdown",
      "metadata": {
        "id": "M6M0wxXk5Q77"
      },
      "source": [
        "Computed the metrics in the Model - 1.ipynb file<br>\n",
        "\n",
        "Train Metrics<br>\n",
        "\n",
        "Accuracy: 0.7755952380952381<br>\n",
        "Precision: 0.7907485565752135<br>\n",
        "Recall: 0.7755952380952381<br>\n",
        "F1 score: 0.7767214017943437<br>\n",
        "\n",
        "Test Metrics<br>\n",
        "\n",
        "Accuracy: 0.38095238095238093<br>\n",
        "Precision: 0.36319286335586415<br>\n",
        "Recall: 0.38095238095238093<br>\n",
        "F1 score: 0.3534533589645111<br>"
      ]
    },
    {
      "cell_type": "markdown",
      "metadata": {
        "id": "l8RYPV53vNE3"
      },
      "source": [
        "Model - 2 with Data Augmentation"
      ]
    },
    {
      "cell_type": "code",
      "metadata": {
        "id": "RifcSvqyvO1n"
      },
      "source": [
        "model_two=load_model('model-landuse-2-data-augmentation.h5')\n",
        "X_train_two=np.array(X_train)\n",
        "X_test_two=np.array(X_valid)\n",
        "y_train_two=np.array(y_train)\n",
        "y_test_two=np.array(y_valid)\n",
        "\n",
        "#Training Prediction\n",
        "y_train_pred_two=model_two.predict(X_train_two)\n",
        "y_train_two=np.argmax(y_train_two,axis=-1)\n",
        "y_train_pred_two=np.argmax(y_train_pred_two,axis=-1)\n",
        "\n",
        "#Testing Prediction\n",
        "y_test_pred_two=model_two.predict(X_test_two)\n",
        "y_test_two=np.argmax(y_test_two,axis=-1)\n",
        "y_test_pred_two=np.argmax(y_test_pred_two,axis=-1)\n"
      ],
      "execution_count": null,
      "outputs": []
    },
    {
      "cell_type": "code",
      "metadata": {
        "colab": {
          "base_uri": "https://localhost:8080/"
        },
        "id": "0Tk3uoQ7xGpC",
        "outputId": "456dde75-94b2-4c57-b34b-1fbe29be9b08"
      },
      "source": [
        "from sklearn.metrics import accuracy_score,precision_score,recall_score,f1_score\n",
        "\n",
        "print('Accuracy:', accuracy_score(y_train_two, y_train_pred_two))\n",
        "print('Precision:', precision_score(y_train_two, y_train_pred_two,average='weighted'))\n",
        "print('Recall:', recall_score(y_train_two, y_train_pred_two,average='weighted'))\n",
        "print('F1 score:', f1_score(y_train_two, y_train_pred_two,average='weighted'))\n",
        "\n"
      ],
      "execution_count": null,
      "outputs": [
        {
          "output_type": "stream",
          "text": [
            "Accuracy: 0.47023809523809523\n",
            "Precision: 0.5549223137753682\n",
            "Recall: 0.47023809523809523\n",
            "F1 score: 0.43200026440340633\n"
          ],
          "name": "stdout"
        }
      ]
    },
    {
      "cell_type": "code",
      "metadata": {
        "colab": {
          "base_uri": "https://localhost:8080/"
        },
        "id": "GTnu4Qfv2XKY",
        "outputId": "b0325e9c-891e-40fe-81c9-87d956b8ce58"
      },
      "source": [
        "from sklearn.metrics import accuracy_score,precision_score,recall_score,f1_score\n",
        "\n",
        "print('Accuracy:', accuracy_score(y_test_two, y_test_pred_two))\n",
        "print('Precision:', precision_score(y_test_two, y_test_pred_two,average='weighted'))\n",
        "print('Recall:', recall_score(y_test_two, y_test_pred_two,average='weighted'))\n",
        "print('F1 score:', f1_score(y_test_two, y_test_pred_two,average='weighted'))\n"
      ],
      "execution_count": null,
      "outputs": [
        {
          "output_type": "stream",
          "text": [
            "Accuracy: 0.4261904761904762\n",
            "Precision: 0.490353937889458\n",
            "Recall: 0.4261904761904762\n",
            "F1 score: 0.3876752268974094\n"
          ],
          "name": "stdout"
        }
      ]
    },
    {
      "cell_type": "markdown",
      "metadata": {
        "id": "N3AXsadQ2mlQ"
      },
      "source": [
        "Model - 3 with AutoKeras"
      ]
    },
    {
      "cell_type": "code",
      "metadata": {
        "id": "WoD6IRWd46VR"
      },
      "source": [
        "pip install autokeras"
      ],
      "execution_count": null,
      "outputs": []
    },
    {
      "cell_type": "code",
      "metadata": {
        "id": "kR_jzXOj5BdQ"
      },
      "source": [
        "import autokeras as ak"
      ],
      "execution_count": null,
      "outputs": []
    },
    {
      "cell_type": "code",
      "metadata": {
        "id": "tke4wMyi2mDS"
      },
      "source": [
        "model_three = load_model(\"model-landuse-3-autokeras.h5\", custom_objects=ak.CUSTOM_OBJECTS)\n",
        "\n",
        "X_train_three=np.array(X_train)\n",
        "X_test_three=np.array(X_valid)\n",
        "y_train_three=np.array(y_train)\n",
        "y_test_three=np.array(y_valid)\n",
        "\n",
        "#Training Prediction\n",
        "y_train_pred_three=model_three.predict(X_train_three)\n",
        "y_train_three=np.argmax(y_train_three,axis=-1)\n",
        "y_train_pred_three=np.argmax(y_train_pred_three,axis=-1)\n",
        "\n",
        "#Testing Prediction\n",
        "y_test_pred_three=model_three.predict(X_test_three)\n",
        "y_test_three=np.argmax(y_test_three,axis=-1)\n",
        "y_test_pred_three=np.argmax(y_test_pred_three,axis=-1)"
      ],
      "execution_count": null,
      "outputs": []
    },
    {
      "cell_type": "code",
      "metadata": {
        "colab": {
          "base_uri": "https://localhost:8080/"
        },
        "id": "sIXRHUY46oTf",
        "outputId": "a0230c30-16e5-46d9-f86e-6af71bf12c50"
      },
      "source": [
        "from sklearn.metrics import accuracy_score,precision_score,recall_score,f1_score\n",
        "\n",
        "print('Accuracy:', accuracy_score(y_train_three, y_train_pred_three))\n",
        "print('Precision:', precision_score(y_train_three, y_train_pred_three,average='weighted'))\n",
        "print('Recall:', recall_score(y_train_three, y_train_pred_three,average='weighted'))\n",
        "print('F1 score:', f1_score(y_train_three, y_train_pred_three,average='weighted'))\n"
      ],
      "execution_count": null,
      "outputs": [
        {
          "output_type": "stream",
          "text": [
            "Accuracy: 0.8113095238095238\n",
            "Precision: 0.8734814956943293\n",
            "Recall: 0.8113095238095238\n",
            "F1 score: 0.8219039623735854\n"
          ],
          "name": "stdout"
        }
      ]
    },
    {
      "cell_type": "code",
      "metadata": {
        "colab": {
          "base_uri": "https://localhost:8080/"
        },
        "id": "9gmNqxSf7INh",
        "outputId": "7da5a1db-e0ed-498b-8d7b-a72c857f0d91"
      },
      "source": [
        "from sklearn.metrics import accuracy_score,precision_score,recall_score,f1_score\n",
        "\n",
        "print('Accuracy:', accuracy_score(y_test_three, y_test_pred_three))\n",
        "print('Precision:', precision_score(y_test_three, y_test_pred_three,average='weighted'))\n",
        "print('Recall:', recall_score(y_test_three, y_test_pred_three,average='weighted'))\n",
        "print('F1 score:', f1_score(y_test_three, y_test_pred_three,average='weighted'))"
      ],
      "execution_count": null,
      "outputs": [
        {
          "output_type": "stream",
          "text": [
            "Accuracy: 0.7357142857142858\n",
            "Precision: 0.8148312924986176\n",
            "Recall: 0.7357142857142858\n",
            "F1 score: 0.7469779887956183\n"
          ],
          "name": "stdout"
        }
      ]
    },
    {
      "cell_type": "markdown",
      "metadata": {
        "id": "8j1aDFcl8ZWy"
      },
      "source": [
        "Model - 4 CNN Feature selection with Random Forest prediction"
      ]
    },
    {
      "cell_type": "code",
      "metadata": {
        "colab": {
          "base_uri": "https://localhost:8080/"
        },
        "id": "EzCf8arP9C9D",
        "outputId": "d999873f-2617-48c7-ed25-3af531dad3ab"
      },
      "source": [
        "import joblib\n",
        "\n",
        "X_train_four=np.array(X_train)\n",
        "X_test_four=np.array(X_valid)\n",
        "y_train_four=np.array(y_train)\n",
        "y_test_four=np.array(y_valid)\n",
        "\n",
        "\n",
        "feature_extractor=load_model('model-landuse-4-feature-extractor.h5')\n",
        "rf_model=joblib.load(\"model-landuse-4b-rn.joblib\")\n",
        "\n",
        "X_train_random_forest=feature_extractor.predict(X_train_four)\n",
        "#rf_model.fit(X_train_random_forest,y_train_backup)\n",
        "y_train_rf_pred_four=rf_model.predict(X_train_random_forest)\n",
        "\n",
        "X_test_random_forest=feature_extractor.predict(X_test_four)\n",
        "y_test_rf_pred_four=rf_model.predict(X_test_random_forest)\n",
        "\n",
        "y_train_four=np.argmax(y_train_four,axis=-1)\n",
        "y_test_four=np.argmax(y_test_four,axis=-1)"
      ],
      "execution_count": null,
      "outputs": [
        {
          "output_type": "stream",
          "text": [
            "WARNING:tensorflow:No training configuration found in the save file, so the model was *not* compiled. Compile it manually.\n"
          ],
          "name": "stdout"
        }
      ]
    },
    {
      "cell_type": "markdown",
      "metadata": {
        "id": "oxrYd2gEfs7F"
      },
      "source": [
        "Computed the metrics in the Model 4 - CNN + RF.ipynb file<br>\n",
        "\n",
        "Metrics only with the CNN model<br>\n",
        "\n",
        "Train Metrics\n",
        "<ul>\n",
        "<li>Accuracy: 0.9809523809523809</li>\n",
        "<li>Precision: 0.9821156881243172</li>\n",
        "<li>Recall: 0.9809523809523809</li>\n",
        "<li>F1 score: 0.9810343015046826</li>\n",
        "</ul>\n",
        "\n",
        "Test Metrics\n",
        "<ul>\n",
        "<li>Accuracy: 0.6214285714285714</li>\n",
        "<li>Precision: 0.6329367360054532</li>\n",
        "<li>Recall: 0.6214285714285714</li>\n",
        "<li>F1 score: 0.6196154893072767</li>\n",
        "</ul>\n",
        "\n",
        "Metrics on the CNN feature selection and Random forest prediction<br>\n",
        "Train Metrics\n",
        "<ul>\n",
        "<li>Accuracy: 1.0</li>\n",
        "<li>Precision: 0.5988459592482148</li>\n",
        "<li>Recall: 0.6</li>\n",
        "<li>F1 score: 0.5904202439283837</li>\n",
        "</ul>\n",
        "Test Metrics\n",
        "<ul>\n",
        "<li>Accuracy: 0.6</li>\n",
        "<li>Precision: 0.5988459592482148</li>\n",
        "<li>Recall: 0.6</li>\n",
        "<li>F1 score: 0.5904202439283837</li>\n",
        "</ul>"
      ]
    },
    {
      "cell_type": "code",
      "metadata": {
        "id": "CDR8at6KKcPl"
      },
      "source": [
        ""
      ],
      "execution_count": null,
      "outputs": []
    }
  ]
}