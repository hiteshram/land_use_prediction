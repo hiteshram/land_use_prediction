{
  "nbformat": 4,
  "nbformat_minor": 0,
  "metadata": {
    "colab": {
      "name": "Deep Learning Project Model 4 - CNN + RF.ipynb",
      "provenance": [],
      "collapsed_sections": [],
      "machine_shape": "hm"
    },
    "kernelspec": {
      "name": "python3",
      "display_name": "Python 3"
    },
    "language_info": {
      "name": "python"
    },
    "accelerator": "GPU",
    "widgets": {
      "application/vnd.jupyter.widget-state+json": {
        "df5ee985635b4c01a4d9d3c088b7303e": {
          "model_module": "@jupyter-widgets/controls",
          "model_name": "HBoxModel",
          "state": {
            "_view_name": "HBoxView",
            "_dom_classes": [],
            "_model_name": "HBoxModel",
            "_view_module": "@jupyter-widgets/controls",
            "_model_module_version": "1.5.0",
            "_view_count": null,
            "_view_module_version": "1.5.0",
            "box_style": "",
            "layout": "IPY_MODEL_0418c05f1752430185404901fb2818d1",
            "_model_module": "@jupyter-widgets/controls",
            "children": [
              "IPY_MODEL_b0d8db15edbc47d284fe70da21e98914",
              "IPY_MODEL_c7d126d311d747279651cb5400f71f57"
            ]
          }
        },
        "0418c05f1752430185404901fb2818d1": {
          "model_module": "@jupyter-widgets/base",
          "model_name": "LayoutModel",
          "state": {
            "_view_name": "LayoutView",
            "grid_template_rows": null,
            "right": null,
            "justify_content": null,
            "_view_module": "@jupyter-widgets/base",
            "overflow": null,
            "_model_module_version": "1.2.0",
            "_view_count": null,
            "flex_flow": null,
            "width": null,
            "min_width": null,
            "border": null,
            "align_items": null,
            "bottom": null,
            "_model_module": "@jupyter-widgets/base",
            "top": null,
            "grid_column": null,
            "overflow_y": null,
            "overflow_x": null,
            "grid_auto_flow": null,
            "grid_area": null,
            "grid_template_columns": null,
            "flex": null,
            "_model_name": "LayoutModel",
            "justify_items": null,
            "grid_row": null,
            "max_height": null,
            "align_content": null,
            "visibility": null,
            "align_self": null,
            "height": null,
            "min_height": null,
            "padding": null,
            "grid_auto_rows": null,
            "grid_gap": null,
            "max_width": null,
            "order": null,
            "_view_module_version": "1.2.0",
            "grid_template_areas": null,
            "object_position": null,
            "object_fit": null,
            "grid_auto_columns": null,
            "margin": null,
            "display": null,
            "left": null
          }
        },
        "b0d8db15edbc47d284fe70da21e98914": {
          "model_module": "@jupyter-widgets/controls",
          "model_name": "FloatProgressModel",
          "state": {
            "_view_name": "ProgressView",
            "style": "IPY_MODEL_5ae4cc9d43a94232a6b75dfc5f5577a4",
            "_dom_classes": [],
            "description": "100%",
            "_model_name": "FloatProgressModel",
            "bar_style": "success",
            "max": 2100,
            "_view_module": "@jupyter-widgets/controls",
            "_model_module_version": "1.5.0",
            "value": 2100,
            "_view_count": null,
            "_view_module_version": "1.5.0",
            "orientation": "horizontal",
            "min": 0,
            "description_tooltip": null,
            "_model_module": "@jupyter-widgets/controls",
            "layout": "IPY_MODEL_844f704441974c4785f2ed83d75e3868"
          }
        },
        "c7d126d311d747279651cb5400f71f57": {
          "model_module": "@jupyter-widgets/controls",
          "model_name": "HTMLModel",
          "state": {
            "_view_name": "HTMLView",
            "style": "IPY_MODEL_0a8d70673b854f11927166a7500d88b9",
            "_dom_classes": [],
            "description": "",
            "_model_name": "HTMLModel",
            "placeholder": "​",
            "_view_module": "@jupyter-widgets/controls",
            "_model_module_version": "1.5.0",
            "value": " 2100/2100 [29:57&lt;00:00,  1.17it/s]",
            "_view_count": null,
            "_view_module_version": "1.5.0",
            "description_tooltip": null,
            "_model_module": "@jupyter-widgets/controls",
            "layout": "IPY_MODEL_ce6460c475cf44a384e242be775d28c4"
          }
        },
        "5ae4cc9d43a94232a6b75dfc5f5577a4": {
          "model_module": "@jupyter-widgets/controls",
          "model_name": "ProgressStyleModel",
          "state": {
            "_view_name": "StyleView",
            "_model_name": "ProgressStyleModel",
            "description_width": "initial",
            "_view_module": "@jupyter-widgets/base",
            "_model_module_version": "1.5.0",
            "_view_count": null,
            "_view_module_version": "1.2.0",
            "bar_color": null,
            "_model_module": "@jupyter-widgets/controls"
          }
        },
        "844f704441974c4785f2ed83d75e3868": {
          "model_module": "@jupyter-widgets/base",
          "model_name": "LayoutModel",
          "state": {
            "_view_name": "LayoutView",
            "grid_template_rows": null,
            "right": null,
            "justify_content": null,
            "_view_module": "@jupyter-widgets/base",
            "overflow": null,
            "_model_module_version": "1.2.0",
            "_view_count": null,
            "flex_flow": null,
            "width": null,
            "min_width": null,
            "border": null,
            "align_items": null,
            "bottom": null,
            "_model_module": "@jupyter-widgets/base",
            "top": null,
            "grid_column": null,
            "overflow_y": null,
            "overflow_x": null,
            "grid_auto_flow": null,
            "grid_area": null,
            "grid_template_columns": null,
            "flex": null,
            "_model_name": "LayoutModel",
            "justify_items": null,
            "grid_row": null,
            "max_height": null,
            "align_content": null,
            "visibility": null,
            "align_self": null,
            "height": null,
            "min_height": null,
            "padding": null,
            "grid_auto_rows": null,
            "grid_gap": null,
            "max_width": null,
            "order": null,
            "_view_module_version": "1.2.0",
            "grid_template_areas": null,
            "object_position": null,
            "object_fit": null,
            "grid_auto_columns": null,
            "margin": null,
            "display": null,
            "left": null
          }
        },
        "0a8d70673b854f11927166a7500d88b9": {
          "model_module": "@jupyter-widgets/controls",
          "model_name": "DescriptionStyleModel",
          "state": {
            "_view_name": "StyleView",
            "_model_name": "DescriptionStyleModel",
            "description_width": "",
            "_view_module": "@jupyter-widgets/base",
            "_model_module_version": "1.5.0",
            "_view_count": null,
            "_view_module_version": "1.2.0",
            "_model_module": "@jupyter-widgets/controls"
          }
        },
        "ce6460c475cf44a384e242be775d28c4": {
          "model_module": "@jupyter-widgets/base",
          "model_name": "LayoutModel",
          "state": {
            "_view_name": "LayoutView",
            "grid_template_rows": null,
            "right": null,
            "justify_content": null,
            "_view_module": "@jupyter-widgets/base",
            "overflow": null,
            "_model_module_version": "1.2.0",
            "_view_count": null,
            "flex_flow": null,
            "width": null,
            "min_width": null,
            "border": null,
            "align_items": null,
            "bottom": null,
            "_model_module": "@jupyter-widgets/base",
            "top": null,
            "grid_column": null,
            "overflow_y": null,
            "overflow_x": null,
            "grid_auto_flow": null,
            "grid_area": null,
            "grid_template_columns": null,
            "flex": null,
            "_model_name": "LayoutModel",
            "justify_items": null,
            "grid_row": null,
            "max_height": null,
            "align_content": null,
            "visibility": null,
            "align_self": null,
            "height": null,
            "min_height": null,
            "padding": null,
            "grid_auto_rows": null,
            "grid_gap": null,
            "max_width": null,
            "order": null,
            "_view_module_version": "1.2.0",
            "grid_template_areas": null,
            "object_position": null,
            "object_fit": null,
            "grid_auto_columns": null,
            "margin": null,
            "display": null,
            "left": null
          }
        },
        "2d2db1d713f74667b46c979e0c43aaa5": {
          "model_module": "@jupyter-widgets/controls",
          "model_name": "HBoxModel",
          "state": {
            "_view_name": "HBoxView",
            "_dom_classes": [],
            "_model_name": "HBoxModel",
            "_view_module": "@jupyter-widgets/controls",
            "_model_module_version": "1.5.0",
            "_view_count": null,
            "_view_module_version": "1.5.0",
            "box_style": "",
            "layout": "IPY_MODEL_32716593c5604560b61c15809ee430c1",
            "_model_module": "@jupyter-widgets/controls",
            "children": [
              "IPY_MODEL_6a5ccdd2a00c41378a94d445a310b226",
              "IPY_MODEL_1750dd89bc324fe5ba7cb70cbccdfcb5"
            ]
          }
        },
        "32716593c5604560b61c15809ee430c1": {
          "model_module": "@jupyter-widgets/base",
          "model_name": "LayoutModel",
          "state": {
            "_view_name": "LayoutView",
            "grid_template_rows": null,
            "right": null,
            "justify_content": null,
            "_view_module": "@jupyter-widgets/base",
            "overflow": null,
            "_model_module_version": "1.2.0",
            "_view_count": null,
            "flex_flow": null,
            "width": null,
            "min_width": null,
            "border": null,
            "align_items": null,
            "bottom": null,
            "_model_module": "@jupyter-widgets/base",
            "top": null,
            "grid_column": null,
            "overflow_y": null,
            "overflow_x": null,
            "grid_auto_flow": null,
            "grid_area": null,
            "grid_template_columns": null,
            "flex": null,
            "_model_name": "LayoutModel",
            "justify_items": null,
            "grid_row": null,
            "max_height": null,
            "align_content": null,
            "visibility": null,
            "align_self": null,
            "height": null,
            "min_height": null,
            "padding": null,
            "grid_auto_rows": null,
            "grid_gap": null,
            "max_width": null,
            "order": null,
            "_view_module_version": "1.2.0",
            "grid_template_areas": null,
            "object_position": null,
            "object_fit": null,
            "grid_auto_columns": null,
            "margin": null,
            "display": null,
            "left": null
          }
        },
        "6a5ccdd2a00c41378a94d445a310b226": {
          "model_module": "@jupyter-widgets/controls",
          "model_name": "FloatProgressModel",
          "state": {
            "_view_name": "ProgressView",
            "style": "IPY_MODEL_529f91f6ce8d4a6fb077a72302418e00",
            "_dom_classes": [],
            "description": "100%",
            "_model_name": "FloatProgressModel",
            "bar_style": "success",
            "max": 2100,
            "_view_module": "@jupyter-widgets/controls",
            "_model_module_version": "1.5.0",
            "value": 2100,
            "_view_count": null,
            "_view_module_version": "1.5.0",
            "orientation": "horizontal",
            "min": 0,
            "description_tooltip": null,
            "_model_module": "@jupyter-widgets/controls",
            "layout": "IPY_MODEL_3e9a1adddf7c490d9acd6d53f3f02550"
          }
        },
        "1750dd89bc324fe5ba7cb70cbccdfcb5": {
          "model_module": "@jupyter-widgets/controls",
          "model_name": "HTMLModel",
          "state": {
            "_view_name": "HTMLView",
            "style": "IPY_MODEL_f83a64c5eb89453aaa8796bbd1dda4ce",
            "_dom_classes": [],
            "description": "",
            "_model_name": "HTMLModel",
            "placeholder": "​",
            "_view_module": "@jupyter-widgets/controls",
            "_model_module_version": "1.5.0",
            "value": " 2100/2100 [03:28&lt;00:00, 10.06it/s]",
            "_view_count": null,
            "_view_module_version": "1.5.0",
            "description_tooltip": null,
            "_model_module": "@jupyter-widgets/controls",
            "layout": "IPY_MODEL_4e4b9c64b82c431696e929ee4dfa3928"
          }
        },
        "529f91f6ce8d4a6fb077a72302418e00": {
          "model_module": "@jupyter-widgets/controls",
          "model_name": "ProgressStyleModel",
          "state": {
            "_view_name": "StyleView",
            "_model_name": "ProgressStyleModel",
            "description_width": "initial",
            "_view_module": "@jupyter-widgets/base",
            "_model_module_version": "1.5.0",
            "_view_count": null,
            "_view_module_version": "1.2.0",
            "bar_color": null,
            "_model_module": "@jupyter-widgets/controls"
          }
        },
        "3e9a1adddf7c490d9acd6d53f3f02550": {
          "model_module": "@jupyter-widgets/base",
          "model_name": "LayoutModel",
          "state": {
            "_view_name": "LayoutView",
            "grid_template_rows": null,
            "right": null,
            "justify_content": null,
            "_view_module": "@jupyter-widgets/base",
            "overflow": null,
            "_model_module_version": "1.2.0",
            "_view_count": null,
            "flex_flow": null,
            "width": null,
            "min_width": null,
            "border": null,
            "align_items": null,
            "bottom": null,
            "_model_module": "@jupyter-widgets/base",
            "top": null,
            "grid_column": null,
            "overflow_y": null,
            "overflow_x": null,
            "grid_auto_flow": null,
            "grid_area": null,
            "grid_template_columns": null,
            "flex": null,
            "_model_name": "LayoutModel",
            "justify_items": null,
            "grid_row": null,
            "max_height": null,
            "align_content": null,
            "visibility": null,
            "align_self": null,
            "height": null,
            "min_height": null,
            "padding": null,
            "grid_auto_rows": null,
            "grid_gap": null,
            "max_width": null,
            "order": null,
            "_view_module_version": "1.2.0",
            "grid_template_areas": null,
            "object_position": null,
            "object_fit": null,
            "grid_auto_columns": null,
            "margin": null,
            "display": null,
            "left": null
          }
        },
        "f83a64c5eb89453aaa8796bbd1dda4ce": {
          "model_module": "@jupyter-widgets/controls",
          "model_name": "DescriptionStyleModel",
          "state": {
            "_view_name": "StyleView",
            "_model_name": "DescriptionStyleModel",
            "description_width": "",
            "_view_module": "@jupyter-widgets/base",
            "_model_module_version": "1.5.0",
            "_view_count": null,
            "_view_module_version": "1.2.0",
            "_model_module": "@jupyter-widgets/controls"
          }
        },
        "4e4b9c64b82c431696e929ee4dfa3928": {
          "model_module": "@jupyter-widgets/base",
          "model_name": "LayoutModel",
          "state": {
            "_view_name": "LayoutView",
            "grid_template_rows": null,
            "right": null,
            "justify_content": null,
            "_view_module": "@jupyter-widgets/base",
            "overflow": null,
            "_model_module_version": "1.2.0",
            "_view_count": null,
            "flex_flow": null,
            "width": null,
            "min_width": null,
            "border": null,
            "align_items": null,
            "bottom": null,
            "_model_module": "@jupyter-widgets/base",
            "top": null,
            "grid_column": null,
            "overflow_y": null,
            "overflow_x": null,
            "grid_auto_flow": null,
            "grid_area": null,
            "grid_template_columns": null,
            "flex": null,
            "_model_name": "LayoutModel",
            "justify_items": null,
            "grid_row": null,
            "max_height": null,
            "align_content": null,
            "visibility": null,
            "align_self": null,
            "height": null,
            "min_height": null,
            "padding": null,
            "grid_auto_rows": null,
            "grid_gap": null,
            "max_width": null,
            "order": null,
            "_view_module_version": "1.2.0",
            "grid_template_areas": null,
            "object_position": null,
            "object_fit": null,
            "grid_auto_columns": null,
            "margin": null,
            "display": null,
            "left": null
          }
        }
      }
    }
  },
  "cells": [
    {
      "cell_type": "code",
      "metadata": {
        "id": "9bhd5YUv3Ivj"
      },
      "source": [
        "import os\n",
        "import pandas as pd\n",
        "import numpy as np\n",
        "import cv2\n",
        "import csv\n",
        "import tensorflow as tf\n",
        "import keras\n",
        "from sklearn.model_selection import train_test_split\n",
        "from keras.models import Sequential, Model\n",
        "from keras.layers import Dense, Dropout, Activation, Flatten\n",
        "from keras.layers import Conv2D, MaxPooling2D\n",
        "from keras.layers import BatchNormalization\n",
        "from keras import backend as K\n",
        "from keras.models import model_from_json,load_model\n",
        "\n",
        "from keras.metrics import Precision\n",
        "from keras.metrics import Recall\n",
        "\n",
        "from sklearn.preprocessing import MinMaxScaler\n",
        "from google.colab import drive\n"
      ],
      "execution_count": null,
      "outputs": []
    },
    {
      "cell_type": "code",
      "metadata": {
        "colab": {
          "base_uri": "https://localhost:8080/"
        },
        "id": "w5awhuAf33H1",
        "outputId": "07e78fd3-6e1c-43e7-fe52-7eba3ffdff47"
      },
      "source": [
        "drive.mount('/content/drive')"
      ],
      "execution_count": null,
      "outputs": [
        {
          "output_type": "stream",
          "text": [
            "Mounted at /content/drive\n"
          ],
          "name": "stdout"
        }
      ]
    },
    {
      "cell_type": "code",
      "metadata": {
        "id": "iTN_iPIi35Jj"
      },
      "source": [
        "IMG_HEIGHT=256\n",
        "IMG_WIDTH=256\n",
        "IMG_CHANNELS=3"
      ],
      "execution_count": null,
      "outputs": []
    },
    {
      "cell_type": "code",
      "metadata": {
        "id": "KbnDV8mv35xz"
      },
      "source": [
        "folder_path=os.path.join(os.getcwd(),'drive','MyDrive','Colab Notebooks','datasets','UCMerced_LandUse','Images')\n",
        "X_train=list()\n",
        "X_test=list()\n",
        "y_train=list()\n",
        "y_test=list()\n",
        "target=dict()\n",
        "\n",
        "count=0\n",
        "for i in os.listdir(folder_path):\n",
        "    target[i]=count\n",
        "    count=count+1\n"
      ],
      "execution_count": null,
      "outputs": []
    },
    {
      "cell_type": "code",
      "metadata": {
        "id": "YrLxeQiR3--N"
      },
      "source": [
        "val=1\n",
        "train_data=list()\n",
        "target_data=list()\n",
        "\n",
        "for directory in os.listdir(folder_path):\n",
        "    temp_folder=os.path.join(folder_path,directory)\n",
        "    list_files=os.listdir(temp_folder)\n",
        "    for i in range(0,len(list_files)):\n",
        "        temp_path=os.path.join(temp_folder,list_files[i])\n",
        "        train_data.append(temp_path)\n",
        "        target_data.append([target[directory]])"
      ],
      "execution_count": null,
      "outputs": []
    },
    {
      "cell_type": "code",
      "metadata": {
        "colab": {
          "base_uri": "https://localhost:8080/",
          "height": 139,
          "referenced_widgets": [
            "df5ee985635b4c01a4d9d3c088b7303e",
            "0418c05f1752430185404901fb2818d1",
            "b0d8db15edbc47d284fe70da21e98914",
            "c7d126d311d747279651cb5400f71f57",
            "5ae4cc9d43a94232a6b75dfc5f5577a4",
            "844f704441974c4785f2ed83d75e3868",
            "0a8d70673b854f11927166a7500d88b9",
            "ce6460c475cf44a384e242be775d28c4"
          ]
        },
        "id": "2ayshMCs9E97",
        "outputId": "5f66add9-3c33-4500-cc05-b9fe8d978996"
      },
      "source": [
        "from tqdm import tqdm_notebook, tnrange\n",
        "\n",
        "X=list()\n",
        "y=list()\n",
        "\n",
        "for n,val in tqdm_notebook(enumerate(train_data), total=len(train_data)):\n",
        "  img = cv2.imread(train_data[n])\n",
        "  img = cv2.resize(img, (IMG_WIDTH, IMG_HEIGHT))\n",
        "  X.append(img)\n",
        "  \n",
        "X=np.array(X)\n",
        "y=np.array(target_data)"
      ],
      "execution_count": null,
      "outputs": [
        {
          "output_type": "stream",
          "text": [
            "/usr/local/lib/python3.7/dist-packages/ipykernel_launcher.py:6: TqdmDeprecationWarning: This function will be removed in tqdm==5.0.0\n",
            "Please use `tqdm.notebook.tqdm` instead of `tqdm.tqdm_notebook`\n",
            "  \n"
          ],
          "name": "stderr"
        },
        {
          "output_type": "display_data",
          "data": {
            "application/vnd.jupyter.widget-view+json": {
              "model_id": "df5ee985635b4c01a4d9d3c088b7303e",
              "version_minor": 0,
              "version_major": 2
            },
            "text/plain": [
              "HBox(children=(FloatProgress(value=0.0, max=2100.0), HTML(value='')))"
            ]
          },
          "metadata": {
            "tags": []
          }
        },
        {
          "output_type": "stream",
          "text": [
            "\n"
          ],
          "name": "stdout"
        }
      ]
    },
    {
      "cell_type": "code",
      "metadata": {
        "colab": {
          "base_uri": "https://localhost:8080/"
        },
        "id": "m5GPYdJu3_tr",
        "outputId": "2a87ca47-8ff0-4f38-a716-f63c444c8535"
      },
      "source": [
        "X_train, X_valid, y_train, y_valid = train_test_split(X,y, random_state=42, test_size = 0.2 )\n",
        "\n",
        "y_train_backup=np.array(y_train)\n",
        "y_valid_backup=np.array(y_valid)\n",
        "\n",
        "print(X_train.shape)\n",
        "print(y_train.shape)\n"
      ],
      "execution_count": null,
      "outputs": [
        {
          "output_type": "stream",
          "text": [
            "(1680, 256, 256, 3)\n",
            "(1680, 1)\n"
          ],
          "name": "stdout"
        }
      ]
    },
    {
      "cell_type": "markdown",
      "metadata": {
        "id": "B5M0BWus_HXj"
      },
      "source": [
        "Data Normalization"
      ]
    },
    {
      "cell_type": "code",
      "metadata": {
        "id": "wiCLCcha-7ez"
      },
      "source": [
        "from keras.utils import normalize, to_categorical\n",
        "\n",
        "X_train = X_train/255.0\n",
        "X_valid = X_valid/255.0\n",
        "\n",
        "y_train = to_categorical(y_train)\n",
        "y_valid = to_categorical(y_valid)\n"
      ],
      "execution_count": null,
      "outputs": []
    },
    {
      "cell_type": "code",
      "metadata": {
        "colab": {
          "base_uri": "https://localhost:8080/"
        },
        "id": "aZHVEnPiFJWz",
        "outputId": "9cd88bfe-0959-4aa8-f049-731ce6b1e004"
      },
      "source": [
        "activation = 'sigmoid'\n",
        "feature_extractor = Sequential()\n",
        "feature_extractor.add(Conv2D(32, 3, activation = activation, padding = 'same', input_shape = (IMG_WIDTH, IMG_HEIGHT, IMG_CHANNELS)))\n",
        "feature_extractor.add(BatchNormalization())\n",
        "\n",
        "feature_extractor.add(Conv2D(32, 3, activation = activation, padding = 'same', kernel_initializer = 'he_uniform'))\n",
        "feature_extractor.add(BatchNormalization())\n",
        "feature_extractor.add(MaxPooling2D())\n",
        "\n",
        "feature_extractor.add(Conv2D(64, 3, activation = activation, padding = 'same', kernel_initializer = 'he_uniform'))\n",
        "feature_extractor.add(BatchNormalization())\n",
        "\n",
        "feature_extractor.add(Conv2D(64, 3, activation = activation, padding = 'same', kernel_initializer = 'he_uniform'))\n",
        "feature_extractor.add(BatchNormalization()) \n",
        "feature_extractor.add(MaxPooling2D())\n",
        "\n",
        "feature_extractor.add(Conv2D(128, 3, activation = activation, padding = 'same', kernel_initializer = 'he_uniform'))\n",
        "feature_extractor.add(BatchNormalization())\n",
        "\n",
        "feature_extractor.add(Conv2D(128, 3, activation = activation, padding = 'same', kernel_initializer = 'he_uniform'))\n",
        "feature_extractor.add(BatchNormalization()) \n",
        "feature_extractor.add(MaxPooling2D())\n",
        "\n",
        "feature_extractor.add(Conv2D(256, 3, activation = activation, padding = 'same', kernel_initializer = 'he_uniform'))\n",
        "feature_extractor.add(BatchNormalization())\n",
        "\n",
        "feature_extractor.add(Conv2D(256, 3, activation = activation, padding = 'same', kernel_initializer = 'he_uniform'))\n",
        "feature_extractor.add(BatchNormalization()) \n",
        "feature_extractor.add(MaxPooling2D())\n",
        "\n",
        "feature_extractor.add(Conv2D(512, 3, activation = activation, padding = 'same', kernel_initializer = 'he_uniform'))\n",
        "feature_extractor.add(BatchNormalization())\n",
        "\n",
        "feature_extractor.add(Conv2D(512, 3, activation = activation, padding = 'same', kernel_initializer = 'he_uniform'))\n",
        "feature_extractor.add(BatchNormalization()) \n",
        "feature_extractor.add(MaxPooling2D())\n",
        "\n",
        "feature_extractor.add(Flatten())\n",
        "\n",
        "x=feature_extractor.output\n",
        "x=Dense(128, activation = activation, kernel_initializer = 'he_uniform')(x)\n",
        "x=Dense(64, activation = activation, kernel_initializer = 'he_uniform')(x)\n",
        "prediction_layer=Dense(21, activation = 'softmax')(x)\n",
        "\n",
        "#Constructing CNN Model\n",
        "cnn_model=Model(inputs=feature_extractor.input,outputs=prediction_layer)\n",
        "cnn_model.compile(optimizer='rmsprop',loss = 'categorical_crossentropy', metrics = ['accuracy'])\n",
        "print(cnn_model.summary()) "
      ],
      "execution_count": null,
      "outputs": [
        {
          "output_type": "stream",
          "text": [
            "Model: \"model\"\n",
            "_________________________________________________________________\n",
            "Layer (type)                 Output Shape              Param #   \n",
            "=================================================================\n",
            "conv2d_input (InputLayer)    [(None, 256, 256, 3)]     0         \n",
            "_________________________________________________________________\n",
            "conv2d (Conv2D)              (None, 256, 256, 32)      896       \n",
            "_________________________________________________________________\n",
            "batch_normalization (BatchNo (None, 256, 256, 32)      128       \n",
            "_________________________________________________________________\n",
            "conv2d_1 (Conv2D)            (None, 256, 256, 32)      9248      \n",
            "_________________________________________________________________\n",
            "batch_normalization_1 (Batch (None, 256, 256, 32)      128       \n",
            "_________________________________________________________________\n",
            "max_pooling2d (MaxPooling2D) (None, 128, 128, 32)      0         \n",
            "_________________________________________________________________\n",
            "conv2d_2 (Conv2D)            (None, 128, 128, 64)      18496     \n",
            "_________________________________________________________________\n",
            "batch_normalization_2 (Batch (None, 128, 128, 64)      256       \n",
            "_________________________________________________________________\n",
            "conv2d_3 (Conv2D)            (None, 128, 128, 64)      36928     \n",
            "_________________________________________________________________\n",
            "batch_normalization_3 (Batch (None, 128, 128, 64)      256       \n",
            "_________________________________________________________________\n",
            "max_pooling2d_1 (MaxPooling2 (None, 64, 64, 64)        0         \n",
            "_________________________________________________________________\n",
            "conv2d_4 (Conv2D)            (None, 64, 64, 128)       73856     \n",
            "_________________________________________________________________\n",
            "batch_normalization_4 (Batch (None, 64, 64, 128)       512       \n",
            "_________________________________________________________________\n",
            "conv2d_5 (Conv2D)            (None, 64, 64, 128)       147584    \n",
            "_________________________________________________________________\n",
            "batch_normalization_5 (Batch (None, 64, 64, 128)       512       \n",
            "_________________________________________________________________\n",
            "max_pooling2d_2 (MaxPooling2 (None, 32, 32, 128)       0         \n",
            "_________________________________________________________________\n",
            "conv2d_6 (Conv2D)            (None, 32, 32, 256)       295168    \n",
            "_________________________________________________________________\n",
            "batch_normalization_6 (Batch (None, 32, 32, 256)       1024      \n",
            "_________________________________________________________________\n",
            "conv2d_7 (Conv2D)            (None, 32, 32, 256)       590080    \n",
            "_________________________________________________________________\n",
            "batch_normalization_7 (Batch (None, 32, 32, 256)       1024      \n",
            "_________________________________________________________________\n",
            "max_pooling2d_3 (MaxPooling2 (None, 16, 16, 256)       0         \n",
            "_________________________________________________________________\n",
            "conv2d_8 (Conv2D)            (None, 16, 16, 512)       1180160   \n",
            "_________________________________________________________________\n",
            "batch_normalization_8 (Batch (None, 16, 16, 512)       2048      \n",
            "_________________________________________________________________\n",
            "conv2d_9 (Conv2D)            (None, 16, 16, 512)       2359808   \n",
            "_________________________________________________________________\n",
            "batch_normalization_9 (Batch (None, 16, 16, 512)       2048      \n",
            "_________________________________________________________________\n",
            "max_pooling2d_4 (MaxPooling2 (None, 8, 8, 512)         0         \n",
            "_________________________________________________________________\n",
            "flatten (Flatten)            (None, 32768)             0         \n",
            "_________________________________________________________________\n",
            "dense (Dense)                (None, 128)               4194432   \n",
            "_________________________________________________________________\n",
            "dense_1 (Dense)              (None, 64)                8256      \n",
            "_________________________________________________________________\n",
            "dense_2 (Dense)              (None, 21)                1365      \n",
            "=================================================================\n",
            "Total params: 8,924,213\n",
            "Trainable params: 8,920,245\n",
            "Non-trainable params: 3,968\n",
            "_________________________________________________________________\n",
            "None\n"
          ],
          "name": "stdout"
        }
      ]
    },
    {
      "cell_type": "code",
      "metadata": {
        "colab": {
          "base_uri": "https://localhost:8080/"
        },
        "id": "dprAzsnnvL8t",
        "outputId": "f90d294c-8d89-45c7-fc3a-0390ca65face"
      },
      "source": [
        "!pip install ipython-autotime\n",
        "\n",
        "%load_ext autotime"
      ],
      "execution_count": null,
      "outputs": [
        {
          "output_type": "stream",
          "text": [
            "Collecting ipython-autotime\n",
            "  Downloading https://files.pythonhosted.org/packages/b4/c9/b413a24f759641bc27ef98c144b590023c8038dfb8a3f09e713e9dff12c1/ipython_autotime-0.3.1-py2.py3-none-any.whl\n",
            "Requirement already satisfied: ipython in /usr/local/lib/python3.7/dist-packages (from ipython-autotime) (5.5.0)\n",
            "Requirement already satisfied: pickleshare in /usr/local/lib/python3.7/dist-packages (from ipython->ipython-autotime) (0.7.5)\n",
            "Requirement already satisfied: setuptools>=18.5 in /usr/local/lib/python3.7/dist-packages (from ipython->ipython-autotime) (56.1.0)\n",
            "Requirement already satisfied: simplegeneric>0.8 in /usr/local/lib/python3.7/dist-packages (from ipython->ipython-autotime) (0.8.1)\n",
            "Requirement already satisfied: pygments in /usr/local/lib/python3.7/dist-packages (from ipython->ipython-autotime) (2.6.1)\n",
            "Requirement already satisfied: decorator in /usr/local/lib/python3.7/dist-packages (from ipython->ipython-autotime) (4.4.2)\n",
            "Requirement already satisfied: traitlets>=4.2 in /usr/local/lib/python3.7/dist-packages (from ipython->ipython-autotime) (5.0.5)\n",
            "Requirement already satisfied: pexpect; sys_platform != \"win32\" in /usr/local/lib/python3.7/dist-packages (from ipython->ipython-autotime) (4.8.0)\n",
            "Requirement already satisfied: prompt-toolkit<2.0.0,>=1.0.4 in /usr/local/lib/python3.7/dist-packages (from ipython->ipython-autotime) (1.0.18)\n",
            "Requirement already satisfied: ipython-genutils in /usr/local/lib/python3.7/dist-packages (from traitlets>=4.2->ipython->ipython-autotime) (0.2.0)\n",
            "Requirement already satisfied: ptyprocess>=0.5 in /usr/local/lib/python3.7/dist-packages (from pexpect; sys_platform != \"win32\"->ipython->ipython-autotime) (0.7.0)\n",
            "Requirement already satisfied: wcwidth in /usr/local/lib/python3.7/dist-packages (from prompt-toolkit<2.0.0,>=1.0.4->ipython->ipython-autotime) (0.2.5)\n",
            "Requirement already satisfied: six>=1.9.0 in /usr/local/lib/python3.7/dist-packages (from prompt-toolkit<2.0.0,>=1.0.4->ipython->ipython-autotime) (1.15.0)\n",
            "Installing collected packages: ipython-autotime\n",
            "Successfully installed ipython-autotime-0.3.1\n",
            "time: 146 µs (started: 2021-05-10 03:47:07 +00:00)\n"
          ],
          "name": "stdout"
        }
      ]
    },
    {
      "cell_type": "code",
      "metadata": {
        "colab": {
          "base_uri": "https://localhost:8080/"
        },
        "id": "UYmmTv_yvviC",
        "outputId": "de03a50c-3054-4a41-cc86-3205485b8b43"
      },
      "source": [
        "history = cnn_model.fit(X_train, y_train, epochs=250, validation_data = (X_valid, y_valid))"
      ],
      "execution_count": null,
      "outputs": [
        {
          "output_type": "stream",
          "text": [
            "Epoch 1/250\n",
            "53/53 [==============================] - 26s 126ms/step - loss: 3.0485 - accuracy: 0.0834 - val_loss: 3.1461 - val_accuracy: 0.0476\n",
            "Epoch 2/250\n",
            "53/53 [==============================] - 5s 90ms/step - loss: 2.8363 - accuracy: 0.1498 - val_loss: 3.0947 - val_accuracy: 0.0548\n",
            "Epoch 3/250\n",
            "53/53 [==============================] - 5s 90ms/step - loss: 2.7691 - accuracy: 0.1705 - val_loss: 3.1761 - val_accuracy: 0.0452\n",
            "Epoch 4/250\n",
            "53/53 [==============================] - 5s 90ms/step - loss: 2.6135 - accuracy: 0.2099 - val_loss: 3.4019 - val_accuracy: 0.0452\n",
            "Epoch 5/250\n",
            "53/53 [==============================] - 5s 90ms/step - loss: 2.5764 - accuracy: 0.2060 - val_loss: 3.1751 - val_accuracy: 0.1071\n",
            "Epoch 6/250\n",
            "53/53 [==============================] - 5s 90ms/step - loss: 2.4313 - accuracy: 0.2803 - val_loss: 3.5471 - val_accuracy: 0.0524\n",
            "Epoch 7/250\n",
            "53/53 [==============================] - 5s 90ms/step - loss: 2.3422 - accuracy: 0.3044 - val_loss: 3.6463 - val_accuracy: 0.0476\n",
            "Epoch 8/250\n",
            "53/53 [==============================] - 5s 90ms/step - loss: 2.3741 - accuracy: 0.3091 - val_loss: 3.8932 - val_accuracy: 0.0714\n",
            "Epoch 9/250\n",
            "53/53 [==============================] - 5s 90ms/step - loss: 2.2795 - accuracy: 0.3263 - val_loss: 3.1270 - val_accuracy: 0.1524\n",
            "Epoch 10/250\n",
            "53/53 [==============================] - 5s 90ms/step - loss: 2.1827 - accuracy: 0.3305 - val_loss: 2.2790 - val_accuracy: 0.2548\n",
            "Epoch 11/250\n",
            "53/53 [==============================] - 5s 90ms/step - loss: 2.1375 - accuracy: 0.3529 - val_loss: 2.3473 - val_accuracy: 0.2881\n",
            "Epoch 12/250\n",
            "53/53 [==============================] - 5s 90ms/step - loss: 1.9931 - accuracy: 0.4020 - val_loss: 2.4631 - val_accuracy: 0.2738\n",
            "Epoch 13/250\n",
            "53/53 [==============================] - 5s 90ms/step - loss: 1.9439 - accuracy: 0.3910 - val_loss: 2.8954 - val_accuracy: 0.1690\n",
            "Epoch 14/250\n",
            "53/53 [==============================] - 5s 91ms/step - loss: 1.9239 - accuracy: 0.4135 - val_loss: 2.1039 - val_accuracy: 0.3452\n",
            "Epoch 15/250\n",
            "53/53 [==============================] - 5s 90ms/step - loss: 1.8345 - accuracy: 0.4154 - val_loss: 2.5378 - val_accuracy: 0.2857\n",
            "Epoch 16/250\n",
            "53/53 [==============================] - 5s 90ms/step - loss: 1.8570 - accuracy: 0.4153 - val_loss: 2.0680 - val_accuracy: 0.3500\n",
            "Epoch 17/250\n",
            "53/53 [==============================] - 5s 90ms/step - loss: 1.7866 - accuracy: 0.4475 - val_loss: 1.9673 - val_accuracy: 0.3810\n",
            "Epoch 18/250\n",
            "53/53 [==============================] - 5s 90ms/step - loss: 1.7242 - accuracy: 0.4509 - val_loss: 2.0567 - val_accuracy: 0.3524\n",
            "Epoch 19/250\n",
            "53/53 [==============================] - 5s 90ms/step - loss: 1.6290 - accuracy: 0.4952 - val_loss: 1.7255 - val_accuracy: 0.4286\n",
            "Epoch 20/250\n",
            "53/53 [==============================] - 5s 90ms/step - loss: 1.5528 - accuracy: 0.5249 - val_loss: 1.6668 - val_accuracy: 0.4500\n",
            "Epoch 21/250\n",
            "53/53 [==============================] - 5s 90ms/step - loss: 1.5307 - accuracy: 0.5350 - val_loss: 2.9555 - val_accuracy: 0.1762\n",
            "Epoch 22/250\n",
            "53/53 [==============================] - 5s 90ms/step - loss: 1.5999 - accuracy: 0.5050 - val_loss: 2.6413 - val_accuracy: 0.2524\n",
            "Epoch 23/250\n",
            "53/53 [==============================] - 5s 90ms/step - loss: 1.5004 - accuracy: 0.5289 - val_loss: 1.6265 - val_accuracy: 0.4619\n",
            "Epoch 24/250\n",
            "53/53 [==============================] - 5s 90ms/step - loss: 1.4611 - accuracy: 0.5335 - val_loss: 2.3177 - val_accuracy: 0.3143\n",
            "Epoch 25/250\n",
            "53/53 [==============================] - 5s 90ms/step - loss: 1.4390 - accuracy: 0.5437 - val_loss: 4.4756 - val_accuracy: 0.0905\n",
            "Epoch 26/250\n",
            "53/53 [==============================] - 5s 90ms/step - loss: 1.3356 - accuracy: 0.5767 - val_loss: 2.1937 - val_accuracy: 0.3381\n",
            "Epoch 27/250\n",
            "53/53 [==============================] - 5s 90ms/step - loss: 1.2882 - accuracy: 0.5901 - val_loss: 1.4896 - val_accuracy: 0.5357\n",
            "Epoch 28/250\n",
            "53/53 [==============================] - 5s 90ms/step - loss: 1.2801 - accuracy: 0.5967 - val_loss: 2.7483 - val_accuracy: 0.2643\n",
            "Epoch 29/250\n",
            "53/53 [==============================] - 5s 90ms/step - loss: 1.2419 - accuracy: 0.6058 - val_loss: 3.4132 - val_accuracy: 0.1667\n",
            "Epoch 30/250\n",
            "53/53 [==============================] - 5s 90ms/step - loss: 1.1885 - accuracy: 0.6142 - val_loss: 2.6149 - val_accuracy: 0.2500\n",
            "Epoch 31/250\n",
            "53/53 [==============================] - 5s 90ms/step - loss: 1.1133 - accuracy: 0.6340 - val_loss: 3.4586 - val_accuracy: 0.2333\n",
            "Epoch 32/250\n",
            "53/53 [==============================] - 5s 90ms/step - loss: 1.2842 - accuracy: 0.5967 - val_loss: 1.7622 - val_accuracy: 0.4190\n",
            "Epoch 33/250\n",
            "53/53 [==============================] - 5s 90ms/step - loss: 1.0669 - accuracy: 0.6816 - val_loss: 1.3557 - val_accuracy: 0.5667\n",
            "Epoch 34/250\n",
            "53/53 [==============================] - 5s 90ms/step - loss: 1.0356 - accuracy: 0.6789 - val_loss: 1.4088 - val_accuracy: 0.5357\n",
            "Epoch 35/250\n",
            "53/53 [==============================] - 5s 90ms/step - loss: 1.0636 - accuracy: 0.6676 - val_loss: 1.3541 - val_accuracy: 0.5667\n",
            "Epoch 36/250\n",
            "53/53 [==============================] - 5s 90ms/step - loss: 0.9821 - accuracy: 0.6913 - val_loss: 2.3328 - val_accuracy: 0.3452\n",
            "Epoch 37/250\n",
            "53/53 [==============================] - 5s 90ms/step - loss: 0.9638 - accuracy: 0.6955 - val_loss: 1.9066 - val_accuracy: 0.4238\n",
            "Epoch 38/250\n",
            "53/53 [==============================] - 5s 91ms/step - loss: 0.9569 - accuracy: 0.7077 - val_loss: 1.5014 - val_accuracy: 0.5214\n",
            "Epoch 39/250\n",
            "53/53 [==============================] - 5s 90ms/step - loss: 0.9565 - accuracy: 0.7111 - val_loss: 2.0220 - val_accuracy: 0.4214\n",
            "Epoch 40/250\n",
            "53/53 [==============================] - 5s 90ms/step - loss: 0.9526 - accuracy: 0.6957 - val_loss: 1.1814 - val_accuracy: 0.6095\n",
            "Epoch 41/250\n",
            "53/53 [==============================] - 5s 90ms/step - loss: 0.8625 - accuracy: 0.7394 - val_loss: 1.6231 - val_accuracy: 0.5071\n",
            "Epoch 42/250\n",
            "53/53 [==============================] - 5s 90ms/step - loss: 0.8571 - accuracy: 0.7374 - val_loss: 1.5621 - val_accuracy: 0.5190\n",
            "Epoch 43/250\n",
            "53/53 [==============================] - 5s 91ms/step - loss: 0.8216 - accuracy: 0.7631 - val_loss: 1.4694 - val_accuracy: 0.5310\n",
            "Epoch 44/250\n",
            "53/53 [==============================] - 5s 90ms/step - loss: 0.8360 - accuracy: 0.7511 - val_loss: 1.3681 - val_accuracy: 0.5405\n",
            "Epoch 45/250\n",
            "53/53 [==============================] - 5s 90ms/step - loss: 0.7734 - accuracy: 0.7718 - val_loss: 1.2792 - val_accuracy: 0.6048\n",
            "Epoch 46/250\n",
            "53/53 [==============================] - 5s 90ms/step - loss: 0.7508 - accuracy: 0.7762 - val_loss: 1.4389 - val_accuracy: 0.5500\n",
            "Epoch 47/250\n",
            "53/53 [==============================] - 5s 90ms/step - loss: 0.8003 - accuracy: 0.7744 - val_loss: 1.5587 - val_accuracy: 0.5357\n",
            "Epoch 48/250\n",
            "53/53 [==============================] - 5s 90ms/step - loss: 0.7358 - accuracy: 0.7645 - val_loss: 1.3572 - val_accuracy: 0.5833\n",
            "Epoch 49/250\n",
            "53/53 [==============================] - 5s 90ms/step - loss: 0.6203 - accuracy: 0.8076 - val_loss: 1.6407 - val_accuracy: 0.5238\n",
            "Epoch 50/250\n",
            "53/53 [==============================] - 5s 91ms/step - loss: 0.6544 - accuracy: 0.8032 - val_loss: 1.6502 - val_accuracy: 0.5071\n",
            "Epoch 51/250\n",
            "53/53 [==============================] - 5s 90ms/step - loss: 0.6205 - accuracy: 0.8143 - val_loss: 1.3081 - val_accuracy: 0.6000\n",
            "Epoch 52/250\n",
            "53/53 [==============================] - 5s 90ms/step - loss: 0.6166 - accuracy: 0.8258 - val_loss: 1.8742 - val_accuracy: 0.5238\n",
            "Epoch 53/250\n",
            "53/53 [==============================] - 5s 90ms/step - loss: 0.6314 - accuracy: 0.8066 - val_loss: 1.7727 - val_accuracy: 0.5071\n",
            "Epoch 54/250\n",
            "53/53 [==============================] - 5s 90ms/step - loss: 0.5990 - accuracy: 0.8327 - val_loss: 1.8706 - val_accuracy: 0.4452\n",
            "Epoch 55/250\n",
            "53/53 [==============================] - 5s 90ms/step - loss: 0.5799 - accuracy: 0.8331 - val_loss: 1.1135 - val_accuracy: 0.6476\n",
            "Epoch 56/250\n",
            "53/53 [==============================] - 5s 90ms/step - loss: 0.4785 - accuracy: 0.8747 - val_loss: 1.3291 - val_accuracy: 0.5881\n",
            "Epoch 57/250\n",
            "53/53 [==============================] - 5s 90ms/step - loss: 0.5090 - accuracy: 0.8569 - val_loss: 1.4167 - val_accuracy: 0.5738\n",
            "Epoch 58/250\n",
            "53/53 [==============================] - 5s 90ms/step - loss: 0.5310 - accuracy: 0.8471 - val_loss: 1.7357 - val_accuracy: 0.5167\n",
            "Epoch 59/250\n",
            "53/53 [==============================] - 5s 90ms/step - loss: 0.5313 - accuracy: 0.8408 - val_loss: 1.3740 - val_accuracy: 0.6071\n",
            "Epoch 60/250\n",
            "53/53 [==============================] - 5s 90ms/step - loss: 0.4538 - accuracy: 0.8845 - val_loss: 1.3210 - val_accuracy: 0.5643\n",
            "Epoch 61/250\n",
            "53/53 [==============================] - 5s 90ms/step - loss: 0.3993 - accuracy: 0.9030 - val_loss: 1.5121 - val_accuracy: 0.5714\n",
            "Epoch 62/250\n",
            "53/53 [==============================] - 5s 90ms/step - loss: 0.4237 - accuracy: 0.8756 - val_loss: 1.3628 - val_accuracy: 0.6000\n",
            "Epoch 63/250\n",
            "53/53 [==============================] - 5s 90ms/step - loss: 0.3811 - accuracy: 0.9026 - val_loss: 2.4232 - val_accuracy: 0.4143\n",
            "Epoch 64/250\n",
            "53/53 [==============================] - 5s 90ms/step - loss: 0.3686 - accuracy: 0.9074 - val_loss: 1.2077 - val_accuracy: 0.6524\n",
            "Epoch 65/250\n",
            "53/53 [==============================] - 5s 90ms/step - loss: 0.3347 - accuracy: 0.9076 - val_loss: 1.2928 - val_accuracy: 0.6167\n",
            "Epoch 66/250\n",
            "53/53 [==============================] - 5s 90ms/step - loss: 0.3249 - accuracy: 0.9246 - val_loss: 1.6543 - val_accuracy: 0.5262\n",
            "Epoch 67/250\n",
            "53/53 [==============================] - 5s 90ms/step - loss: 0.3609 - accuracy: 0.9003 - val_loss: 1.2188 - val_accuracy: 0.6333\n",
            "Epoch 68/250\n",
            "53/53 [==============================] - 5s 90ms/step - loss: 0.2738 - accuracy: 0.9359 - val_loss: 1.1586 - val_accuracy: 0.6571\n",
            "Epoch 69/250\n",
            "53/53 [==============================] - 5s 90ms/step - loss: 0.3063 - accuracy: 0.9194 - val_loss: 1.2582 - val_accuracy: 0.6548\n",
            "Epoch 70/250\n",
            "53/53 [==============================] - 5s 90ms/step - loss: 0.3060 - accuracy: 0.9193 - val_loss: 1.7736 - val_accuracy: 0.5357\n",
            "Epoch 71/250\n",
            "53/53 [==============================] - 5s 90ms/step - loss: 0.3428 - accuracy: 0.8939 - val_loss: 1.7173 - val_accuracy: 0.5333\n",
            "Epoch 72/250\n",
            "53/53 [==============================] - 5s 90ms/step - loss: 0.3259 - accuracy: 0.9145 - val_loss: 1.4034 - val_accuracy: 0.6048\n",
            "Epoch 73/250\n",
            "53/53 [==============================] - 5s 90ms/step - loss: 0.2633 - accuracy: 0.9339 - val_loss: 1.2155 - val_accuracy: 0.6452\n",
            "Epoch 74/250\n",
            "53/53 [==============================] - 5s 90ms/step - loss: 0.2175 - accuracy: 0.9536 - val_loss: 1.2594 - val_accuracy: 0.6571\n",
            "Epoch 75/250\n",
            "53/53 [==============================] - 5s 90ms/step - loss: 0.2347 - accuracy: 0.9361 - val_loss: 1.2264 - val_accuracy: 0.6548\n",
            "Epoch 76/250\n",
            "53/53 [==============================] - 5s 90ms/step - loss: 0.2002 - accuracy: 0.9462 - val_loss: 1.5058 - val_accuracy: 0.5905\n",
            "Epoch 77/250\n",
            "53/53 [==============================] - 5s 90ms/step - loss: 0.2394 - accuracy: 0.9407 - val_loss: 1.5527 - val_accuracy: 0.6095\n",
            "Epoch 78/250\n",
            "53/53 [==============================] - 5s 90ms/step - loss: 0.2122 - accuracy: 0.9463 - val_loss: 1.3541 - val_accuracy: 0.6452\n",
            "Epoch 79/250\n",
            "53/53 [==============================] - 5s 91ms/step - loss: 0.1860 - accuracy: 0.9531 - val_loss: 1.5455 - val_accuracy: 0.6000\n",
            "Epoch 80/250\n",
            "53/53 [==============================] - 5s 90ms/step - loss: 0.1970 - accuracy: 0.9486 - val_loss: 1.3137 - val_accuracy: 0.6452\n",
            "Epoch 81/250\n",
            "53/53 [==============================] - 5s 90ms/step - loss: 0.1476 - accuracy: 0.9639 - val_loss: 1.5045 - val_accuracy: 0.5833\n",
            "Epoch 82/250\n",
            "53/53 [==============================] - 5s 90ms/step - loss: 0.1564 - accuracy: 0.9656 - val_loss: 2.4913 - val_accuracy: 0.4476\n",
            "Epoch 83/250\n",
            "53/53 [==============================] - 5s 90ms/step - loss: 0.1720 - accuracy: 0.9629 - val_loss: 1.3695 - val_accuracy: 0.6452\n",
            "Epoch 84/250\n",
            "53/53 [==============================] - 5s 90ms/step - loss: 0.1454 - accuracy: 0.9645 - val_loss: 1.5333 - val_accuracy: 0.6095\n",
            "Epoch 85/250\n",
            "53/53 [==============================] - 5s 90ms/step - loss: 0.1310 - accuracy: 0.9691 - val_loss: 1.4690 - val_accuracy: 0.6262\n",
            "Epoch 86/250\n",
            "53/53 [==============================] - 5s 90ms/step - loss: 0.1879 - accuracy: 0.9545 - val_loss: 3.1681 - val_accuracy: 0.3619\n",
            "Epoch 87/250\n",
            "53/53 [==============================] - 5s 90ms/step - loss: 0.1769 - accuracy: 0.9551 - val_loss: 1.7844 - val_accuracy: 0.5595\n",
            "Epoch 88/250\n",
            "53/53 [==============================] - 5s 91ms/step - loss: 0.1408 - accuracy: 0.9630 - val_loss: 1.6541 - val_accuracy: 0.6048\n",
            "Epoch 89/250\n",
            "53/53 [==============================] - 5s 90ms/step - loss: 0.1159 - accuracy: 0.9760 - val_loss: 1.8364 - val_accuracy: 0.5667\n",
            "Epoch 90/250\n",
            "53/53 [==============================] - 5s 90ms/step - loss: 0.0862 - accuracy: 0.9882 - val_loss: 1.7870 - val_accuracy: 0.5881\n",
            "Epoch 91/250\n",
            "53/53 [==============================] - 5s 90ms/step - loss: 0.1200 - accuracy: 0.9677 - val_loss: 1.5715 - val_accuracy: 0.6405\n",
            "Epoch 92/250\n",
            "53/53 [==============================] - 5s 90ms/step - loss: 0.1581 - accuracy: 0.9539 - val_loss: 1.6561 - val_accuracy: 0.6024\n",
            "Epoch 93/250\n",
            "53/53 [==============================] - 5s 90ms/step - loss: 0.1515 - accuracy: 0.9562 - val_loss: 1.2711 - val_accuracy: 0.6786\n",
            "Epoch 94/250\n",
            "53/53 [==============================] - 5s 90ms/step - loss: 0.0982 - accuracy: 0.9828 - val_loss: 1.6443 - val_accuracy: 0.6190\n",
            "Epoch 95/250\n",
            "53/53 [==============================] - 5s 91ms/step - loss: 0.0766 - accuracy: 0.9866 - val_loss: 1.4838 - val_accuracy: 0.6667\n",
            "Epoch 96/250\n",
            "53/53 [==============================] - 5s 90ms/step - loss: 0.0732 - accuracy: 0.9848 - val_loss: 1.4119 - val_accuracy: 0.6619\n",
            "Epoch 97/250\n",
            "53/53 [==============================] - 5s 90ms/step - loss: 0.0614 - accuracy: 0.9929 - val_loss: 1.7221 - val_accuracy: 0.5976\n",
            "Epoch 98/250\n",
            "53/53 [==============================] - 5s 91ms/step - loss: 0.0943 - accuracy: 0.9778 - val_loss: 1.5268 - val_accuracy: 0.6357\n",
            "Epoch 99/250\n",
            "53/53 [==============================] - 5s 90ms/step - loss: 0.0680 - accuracy: 0.9829 - val_loss: 2.3179 - val_accuracy: 0.4738\n",
            "Epoch 100/250\n",
            "53/53 [==============================] - 5s 91ms/step - loss: 0.1029 - accuracy: 0.9669 - val_loss: 1.6136 - val_accuracy: 0.6071\n",
            "Epoch 101/250\n",
            "53/53 [==============================] - 5s 90ms/step - loss: 0.0652 - accuracy: 0.9864 - val_loss: 3.2702 - val_accuracy: 0.3976\n",
            "Epoch 102/250\n",
            "53/53 [==============================] - 5s 90ms/step - loss: 0.0589 - accuracy: 0.9861 - val_loss: 1.8965 - val_accuracy: 0.5833\n",
            "Epoch 103/250\n",
            "53/53 [==============================] - 5s 90ms/step - loss: 0.0663 - accuracy: 0.9821 - val_loss: 2.0076 - val_accuracy: 0.5619\n",
            "Epoch 104/250\n",
            "53/53 [==============================] - 5s 90ms/step - loss: 0.1059 - accuracy: 0.9678 - val_loss: 1.7934 - val_accuracy: 0.6238\n",
            "Epoch 105/250\n",
            "53/53 [==============================] - 5s 90ms/step - loss: 0.0710 - accuracy: 0.9831 - val_loss: 1.4418 - val_accuracy: 0.6524\n",
            "Epoch 106/250\n",
            "53/53 [==============================] - 5s 90ms/step - loss: 0.0418 - accuracy: 0.9921 - val_loss: 2.1368 - val_accuracy: 0.5571\n",
            "Epoch 107/250\n",
            "53/53 [==============================] - 5s 90ms/step - loss: 0.0583 - accuracy: 0.9842 - val_loss: 1.6474 - val_accuracy: 0.6333\n",
            "Epoch 108/250\n",
            "53/53 [==============================] - 5s 90ms/step - loss: 0.0576 - accuracy: 0.9850 - val_loss: 1.7791 - val_accuracy: 0.6000\n",
            "Epoch 109/250\n",
            "53/53 [==============================] - 5s 90ms/step - loss: 0.0839 - accuracy: 0.9822 - val_loss: 1.5387 - val_accuracy: 0.6310\n",
            "Epoch 110/250\n",
            "53/53 [==============================] - 5s 90ms/step - loss: 0.0657 - accuracy: 0.9855 - val_loss: 2.1717 - val_accuracy: 0.5619\n",
            "Epoch 111/250\n",
            "53/53 [==============================] - 5s 91ms/step - loss: 0.0643 - accuracy: 0.9846 - val_loss: 1.4540 - val_accuracy: 0.6571\n",
            "Epoch 112/250\n",
            "53/53 [==============================] - 5s 91ms/step - loss: 0.0484 - accuracy: 0.9889 - val_loss: 1.6279 - val_accuracy: 0.6405\n",
            "Epoch 113/250\n",
            "53/53 [==============================] - 5s 90ms/step - loss: 0.0826 - accuracy: 0.9789 - val_loss: 1.6925 - val_accuracy: 0.5881\n",
            "Epoch 114/250\n",
            "53/53 [==============================] - 5s 90ms/step - loss: 0.0504 - accuracy: 0.9910 - val_loss: 1.9839 - val_accuracy: 0.5881\n",
            "Epoch 115/250\n",
            "53/53 [==============================] - 5s 90ms/step - loss: 0.0963 - accuracy: 0.9751 - val_loss: 1.7692 - val_accuracy: 0.6024\n",
            "Epoch 116/250\n",
            "53/53 [==============================] - 5s 91ms/step - loss: 0.0489 - accuracy: 0.9877 - val_loss: 1.5889 - val_accuracy: 0.6452\n",
            "Epoch 117/250\n",
            "53/53 [==============================] - 5s 90ms/step - loss: 0.0523 - accuracy: 0.9866 - val_loss: 2.0350 - val_accuracy: 0.5476\n",
            "Epoch 118/250\n",
            "53/53 [==============================] - 5s 90ms/step - loss: 0.0471 - accuracy: 0.9891 - val_loss: 1.6302 - val_accuracy: 0.6452\n",
            "Epoch 119/250\n",
            "53/53 [==============================] - 5s 91ms/step - loss: 0.0550 - accuracy: 0.9877 - val_loss: 1.8630 - val_accuracy: 0.5762\n",
            "Epoch 120/250\n",
            "53/53 [==============================] - 5s 90ms/step - loss: 0.0662 - accuracy: 0.9758 - val_loss: 2.0025 - val_accuracy: 0.5738\n",
            "Epoch 121/250\n",
            "53/53 [==============================] - 5s 91ms/step - loss: 0.0760 - accuracy: 0.9849 - val_loss: 1.6315 - val_accuracy: 0.6262\n",
            "Epoch 122/250\n",
            "53/53 [==============================] - 5s 90ms/step - loss: 0.0640 - accuracy: 0.9838 - val_loss: 1.8410 - val_accuracy: 0.5952\n",
            "Epoch 123/250\n",
            "53/53 [==============================] - 5s 91ms/step - loss: 0.0317 - accuracy: 0.9932 - val_loss: 2.0704 - val_accuracy: 0.5619\n",
            "Epoch 124/250\n",
            "53/53 [==============================] - 5s 90ms/step - loss: 0.0429 - accuracy: 0.9886 - val_loss: 2.0654 - val_accuracy: 0.5786\n",
            "Epoch 125/250\n",
            "53/53 [==============================] - 5s 90ms/step - loss: 0.0930 - accuracy: 0.9762 - val_loss: 1.7724 - val_accuracy: 0.6381\n",
            "Epoch 126/250\n",
            "53/53 [==============================] - 5s 90ms/step - loss: 0.0331 - accuracy: 0.9912 - val_loss: 1.7667 - val_accuracy: 0.6310\n",
            "Epoch 127/250\n",
            "53/53 [==============================] - 5s 90ms/step - loss: 0.0324 - accuracy: 0.9938 - val_loss: 3.1283 - val_accuracy: 0.4381\n",
            "Epoch 128/250\n",
            "53/53 [==============================] - 5s 91ms/step - loss: 0.0643 - accuracy: 0.9808 - val_loss: 2.2134 - val_accuracy: 0.5595\n",
            "Epoch 129/250\n",
            "53/53 [==============================] - 5s 90ms/step - loss: 0.0361 - accuracy: 0.9890 - val_loss: 1.7348 - val_accuracy: 0.6238\n",
            "Epoch 130/250\n",
            "53/53 [==============================] - 5s 90ms/step - loss: 0.0598 - accuracy: 0.9857 - val_loss: 2.2094 - val_accuracy: 0.5476\n",
            "Epoch 131/250\n",
            "53/53 [==============================] - 5s 90ms/step - loss: 0.0323 - accuracy: 0.9932 - val_loss: 2.0042 - val_accuracy: 0.5952\n",
            "Epoch 132/250\n",
            "53/53 [==============================] - 5s 91ms/step - loss: 0.0305 - accuracy: 0.9912 - val_loss: 1.4979 - val_accuracy: 0.6500\n",
            "Epoch 133/250\n",
            "53/53 [==============================] - 5s 91ms/step - loss: 0.0412 - accuracy: 0.9907 - val_loss: 2.0333 - val_accuracy: 0.5833\n",
            "Epoch 134/250\n",
            "53/53 [==============================] - 5s 90ms/step - loss: 0.0384 - accuracy: 0.9906 - val_loss: 1.7286 - val_accuracy: 0.6286\n",
            "Epoch 135/250\n",
            "53/53 [==============================] - 5s 90ms/step - loss: 0.0250 - accuracy: 0.9939 - val_loss: 1.7824 - val_accuracy: 0.6000\n",
            "Epoch 136/250\n",
            "53/53 [==============================] - 5s 90ms/step - loss: 0.0652 - accuracy: 0.9790 - val_loss: 2.0992 - val_accuracy: 0.5667\n",
            "Epoch 137/250\n",
            "53/53 [==============================] - 5s 91ms/step - loss: 0.0692 - accuracy: 0.9823 - val_loss: 1.8726 - val_accuracy: 0.5976\n",
            "Epoch 138/250\n",
            "53/53 [==============================] - 5s 90ms/step - loss: 0.0484 - accuracy: 0.9826 - val_loss: 1.6100 - val_accuracy: 0.6452\n",
            "Epoch 139/250\n",
            "53/53 [==============================] - 5s 90ms/step - loss: 0.0289 - accuracy: 0.9931 - val_loss: 1.8005 - val_accuracy: 0.6429\n",
            "Epoch 140/250\n",
            "53/53 [==============================] - 5s 90ms/step - loss: 0.0294 - accuracy: 0.9916 - val_loss: 1.7351 - val_accuracy: 0.6286\n",
            "Epoch 141/250\n",
            "53/53 [==============================] - 5s 91ms/step - loss: 0.0342 - accuracy: 0.9933 - val_loss: 1.9051 - val_accuracy: 0.6024\n",
            "Epoch 142/250\n",
            "53/53 [==============================] - 5s 90ms/step - loss: 0.0428 - accuracy: 0.9872 - val_loss: 1.8621 - val_accuracy: 0.6071\n",
            "Epoch 143/250\n",
            "53/53 [==============================] - 5s 90ms/step - loss: 0.0501 - accuracy: 0.9898 - val_loss: 1.8940 - val_accuracy: 0.6286\n",
            "Epoch 144/250\n",
            "53/53 [==============================] - 5s 91ms/step - loss: 0.0394 - accuracy: 0.9885 - val_loss: 1.7677 - val_accuracy: 0.6333\n",
            "Epoch 145/250\n",
            "53/53 [==============================] - 5s 91ms/step - loss: 0.0261 - accuracy: 0.9938 - val_loss: 1.8529 - val_accuracy: 0.6262\n",
            "Epoch 146/250\n",
            "53/53 [==============================] - 5s 91ms/step - loss: 0.0316 - accuracy: 0.9922 - val_loss: 1.9043 - val_accuracy: 0.6071\n",
            "Epoch 147/250\n",
            "53/53 [==============================] - 5s 90ms/step - loss: 0.0249 - accuracy: 0.9935 - val_loss: 1.8787 - val_accuracy: 0.6143\n",
            "Epoch 148/250\n",
            "53/53 [==============================] - 5s 90ms/step - loss: 0.0683 - accuracy: 0.9801 - val_loss: 1.6534 - val_accuracy: 0.6619\n",
            "Epoch 149/250\n",
            "53/53 [==============================] - 5s 90ms/step - loss: 0.0375 - accuracy: 0.9902 - val_loss: 2.1006 - val_accuracy: 0.5738\n",
            "Epoch 150/250\n",
            "53/53 [==============================] - 5s 90ms/step - loss: 0.0857 - accuracy: 0.9791 - val_loss: 1.8780 - val_accuracy: 0.5976\n",
            "Epoch 151/250\n",
            "53/53 [==============================] - 5s 90ms/step - loss: 0.0515 - accuracy: 0.9888 - val_loss: 1.7554 - val_accuracy: 0.6310\n",
            "Epoch 152/250\n",
            "53/53 [==============================] - 5s 90ms/step - loss: 0.0343 - accuracy: 0.9895 - val_loss: 1.7450 - val_accuracy: 0.6238\n",
            "Epoch 153/250\n",
            "53/53 [==============================] - 5s 90ms/step - loss: 0.0322 - accuracy: 0.9899 - val_loss: 2.3197 - val_accuracy: 0.5381\n",
            "Epoch 154/250\n",
            "53/53 [==============================] - 5s 91ms/step - loss: 0.0129 - accuracy: 0.9979 - val_loss: 1.7221 - val_accuracy: 0.6667\n",
            "Epoch 155/250\n",
            "53/53 [==============================] - 5s 91ms/step - loss: 0.0213 - accuracy: 0.9957 - val_loss: 2.0703 - val_accuracy: 0.6190\n",
            "Epoch 156/250\n",
            "53/53 [==============================] - 5s 90ms/step - loss: 0.0341 - accuracy: 0.9919 - val_loss: 2.5314 - val_accuracy: 0.5333\n",
            "Epoch 157/250\n",
            "53/53 [==============================] - 5s 91ms/step - loss: 0.0310 - accuracy: 0.9942 - val_loss: 1.8969 - val_accuracy: 0.6119\n",
            "Epoch 158/250\n",
            "53/53 [==============================] - 5s 90ms/step - loss: 0.0237 - accuracy: 0.9933 - val_loss: 1.8397 - val_accuracy: 0.6262\n",
            "Epoch 159/250\n",
            "53/53 [==============================] - 5s 90ms/step - loss: 0.0289 - accuracy: 0.9921 - val_loss: 1.9503 - val_accuracy: 0.6119\n",
            "Epoch 160/250\n",
            "53/53 [==============================] - 5s 91ms/step - loss: 0.0174 - accuracy: 0.9946 - val_loss: 2.1539 - val_accuracy: 0.5810\n",
            "Epoch 161/250\n",
            "53/53 [==============================] - 5s 91ms/step - loss: 0.0314 - accuracy: 0.9897 - val_loss: 1.8330 - val_accuracy: 0.6429\n",
            "Epoch 162/250\n",
            "53/53 [==============================] - 5s 90ms/step - loss: 0.0314 - accuracy: 0.9881 - val_loss: 1.8442 - val_accuracy: 0.6524\n",
            "Epoch 163/250\n",
            "53/53 [==============================] - 5s 91ms/step - loss: 0.0214 - accuracy: 0.9955 - val_loss: 1.8026 - val_accuracy: 0.6333\n",
            "Epoch 164/250\n",
            "53/53 [==============================] - 5s 90ms/step - loss: 0.0156 - accuracy: 0.9961 - val_loss: 2.1381 - val_accuracy: 0.5833\n",
            "Epoch 165/250\n",
            "53/53 [==============================] - 5s 90ms/step - loss: 0.0186 - accuracy: 0.9950 - val_loss: 2.1599 - val_accuracy: 0.5833\n",
            "Epoch 166/250\n",
            "53/53 [==============================] - 5s 90ms/step - loss: 0.0230 - accuracy: 0.9929 - val_loss: 1.9247 - val_accuracy: 0.6405\n",
            "Epoch 167/250\n",
            "53/53 [==============================] - 5s 91ms/step - loss: 0.0246 - accuracy: 0.9951 - val_loss: 1.8561 - val_accuracy: 0.6524\n",
            "Epoch 168/250\n",
            "53/53 [==============================] - 5s 91ms/step - loss: 0.0130 - accuracy: 0.9983 - val_loss: 3.3698 - val_accuracy: 0.4690\n",
            "Epoch 169/250\n",
            "53/53 [==============================] - 5s 90ms/step - loss: 0.0405 - accuracy: 0.9890 - val_loss: 1.9523 - val_accuracy: 0.6405\n",
            "Epoch 170/250\n",
            "53/53 [==============================] - 5s 90ms/step - loss: 0.0388 - accuracy: 0.9896 - val_loss: 5.5776 - val_accuracy: 0.3429\n",
            "Epoch 171/250\n",
            "53/53 [==============================] - 5s 90ms/step - loss: 0.1364 - accuracy: 0.9601 - val_loss: 2.5455 - val_accuracy: 0.5619\n",
            "Epoch 172/250\n",
            "53/53 [==============================] - 5s 91ms/step - loss: 0.0525 - accuracy: 0.9855 - val_loss: 1.9195 - val_accuracy: 0.6357\n",
            "Epoch 173/250\n",
            "53/53 [==============================] - 5s 90ms/step - loss: 0.0247 - accuracy: 0.9935 - val_loss: 2.0433 - val_accuracy: 0.6095\n",
            "Epoch 174/250\n",
            "53/53 [==============================] - 5s 91ms/step - loss: 0.0251 - accuracy: 0.9936 - val_loss: 1.7663 - val_accuracy: 0.6286\n",
            "Epoch 175/250\n",
            "53/53 [==============================] - 5s 91ms/step - loss: 0.0211 - accuracy: 0.9939 - val_loss: 2.2659 - val_accuracy: 0.5762\n",
            "Epoch 176/250\n",
            "53/53 [==============================] - 5s 90ms/step - loss: 0.0139 - accuracy: 0.9979 - val_loss: 1.9301 - val_accuracy: 0.6262\n",
            "Epoch 177/250\n",
            "53/53 [==============================] - 5s 90ms/step - loss: 0.0240 - accuracy: 0.9933 - val_loss: 2.5247 - val_accuracy: 0.5810\n",
            "Epoch 178/250\n",
            "53/53 [==============================] - 5s 90ms/step - loss: 0.0100 - accuracy: 0.9977 - val_loss: 2.0916 - val_accuracy: 0.5929\n",
            "Epoch 179/250\n",
            "53/53 [==============================] - 5s 90ms/step - loss: 0.0161 - accuracy: 0.9965 - val_loss: 1.7782 - val_accuracy: 0.6524\n",
            "Epoch 180/250\n",
            "53/53 [==============================] - 5s 90ms/step - loss: 0.0124 - accuracy: 0.9971 - val_loss: 2.4472 - val_accuracy: 0.5714\n",
            "Epoch 181/250\n",
            "53/53 [==============================] - 5s 90ms/step - loss: 0.0454 - accuracy: 0.9900 - val_loss: 2.6749 - val_accuracy: 0.5405\n",
            "Epoch 182/250\n",
            "53/53 [==============================] - 5s 90ms/step - loss: 0.0080 - accuracy: 0.9997 - val_loss: 2.0501 - val_accuracy: 0.6167\n",
            "Epoch 183/250\n",
            "53/53 [==============================] - 5s 90ms/step - loss: 0.0124 - accuracy: 0.9966 - val_loss: 2.0184 - val_accuracy: 0.6333\n",
            "Epoch 184/250\n",
            "53/53 [==============================] - 5s 90ms/step - loss: 0.0128 - accuracy: 0.9961 - val_loss: 2.1494 - val_accuracy: 0.6286\n",
            "Epoch 185/250\n",
            "53/53 [==============================] - 5s 91ms/step - loss: 0.0287 - accuracy: 0.9933 - val_loss: 1.8809 - val_accuracy: 0.6333\n",
            "Epoch 186/250\n",
            "53/53 [==============================] - 5s 90ms/step - loss: 0.0314 - accuracy: 0.9937 - val_loss: 2.0863 - val_accuracy: 0.6286\n",
            "Epoch 187/250\n",
            "53/53 [==============================] - 5s 90ms/step - loss: 0.0178 - accuracy: 0.9955 - val_loss: 2.0370 - val_accuracy: 0.6095\n",
            "Epoch 188/250\n",
            "53/53 [==============================] - 5s 91ms/step - loss: 0.0381 - accuracy: 0.9892 - val_loss: 2.4829 - val_accuracy: 0.5667\n",
            "Epoch 189/250\n",
            "53/53 [==============================] - 5s 91ms/step - loss: 0.0581 - accuracy: 0.9816 - val_loss: 2.2934 - val_accuracy: 0.5857\n",
            "Epoch 190/250\n",
            "53/53 [==============================] - 5s 91ms/step - loss: 0.0079 - accuracy: 0.9989 - val_loss: 2.3596 - val_accuracy: 0.5976\n",
            "Epoch 191/250\n",
            "53/53 [==============================] - 5s 91ms/step - loss: 0.0082 - accuracy: 0.9984 - val_loss: 2.4315 - val_accuracy: 0.5762\n",
            "Epoch 192/250\n",
            "53/53 [==============================] - 5s 91ms/step - loss: 0.0170 - accuracy: 0.9961 - val_loss: 2.8146 - val_accuracy: 0.5405\n",
            "Epoch 193/250\n",
            "53/53 [==============================] - 5s 90ms/step - loss: 0.0088 - accuracy: 0.9977 - val_loss: 2.7256 - val_accuracy: 0.5548\n",
            "Epoch 194/250\n",
            "53/53 [==============================] - 5s 90ms/step - loss: 0.0171 - accuracy: 0.9965 - val_loss: 1.9748 - val_accuracy: 0.6500\n",
            "Epoch 195/250\n",
            "53/53 [==============================] - 5s 90ms/step - loss: 0.0264 - accuracy: 0.9939 - val_loss: 1.9809 - val_accuracy: 0.6405\n",
            "Epoch 196/250\n",
            "53/53 [==============================] - 5s 91ms/step - loss: 0.0145 - accuracy: 0.9960 - val_loss: 1.9819 - val_accuracy: 0.6262\n",
            "Epoch 197/250\n",
            "53/53 [==============================] - 5s 91ms/step - loss: 0.0363 - accuracy: 0.9877 - val_loss: 3.7972 - val_accuracy: 0.4667\n",
            "Epoch 198/250\n",
            "53/53 [==============================] - 5s 91ms/step - loss: 0.0217 - accuracy: 0.9934 - val_loss: 5.8316 - val_accuracy: 0.3500\n",
            "Epoch 199/250\n",
            "53/53 [==============================] - 5s 91ms/step - loss: 0.0941 - accuracy: 0.9762 - val_loss: 2.0121 - val_accuracy: 0.6333\n",
            "Epoch 200/250\n",
            "53/53 [==============================] - 5s 90ms/step - loss: 0.0061 - accuracy: 0.9992 - val_loss: 2.2658 - val_accuracy: 0.6048\n",
            "Epoch 201/250\n",
            "53/53 [==============================] - 5s 91ms/step - loss: 0.0145 - accuracy: 0.9969 - val_loss: 2.8783 - val_accuracy: 0.5405\n",
            "Epoch 202/250\n",
            "53/53 [==============================] - 5s 91ms/step - loss: 0.0255 - accuracy: 0.9917 - val_loss: 3.7017 - val_accuracy: 0.4476\n",
            "Epoch 203/250\n",
            "53/53 [==============================] - 5s 91ms/step - loss: 0.0307 - accuracy: 0.9935 - val_loss: 2.8810 - val_accuracy: 0.5262\n",
            "Epoch 204/250\n",
            "53/53 [==============================] - 5s 90ms/step - loss: 0.0159 - accuracy: 0.9961 - val_loss: 2.0365 - val_accuracy: 0.6310\n",
            "Epoch 205/250\n",
            "53/53 [==============================] - 5s 90ms/step - loss: 0.0121 - accuracy: 0.9976 - val_loss: 2.3893 - val_accuracy: 0.6071\n",
            "Epoch 206/250\n",
            "53/53 [==============================] - 5s 90ms/step - loss: 0.0133 - accuracy: 0.9961 - val_loss: 1.8465 - val_accuracy: 0.6786\n",
            "Epoch 207/250\n",
            "53/53 [==============================] - 5s 90ms/step - loss: 0.0156 - accuracy: 0.9979 - val_loss: 2.3242 - val_accuracy: 0.6000\n",
            "Epoch 208/250\n",
            "53/53 [==============================] - 5s 90ms/step - loss: 0.0133 - accuracy: 0.9967 - val_loss: 2.2661 - val_accuracy: 0.5905\n",
            "Epoch 209/250\n",
            "53/53 [==============================] - 5s 91ms/step - loss: 0.0391 - accuracy: 0.9933 - val_loss: 1.9576 - val_accuracy: 0.6548\n",
            "Epoch 210/250\n",
            "53/53 [==============================] - 5s 91ms/step - loss: 0.0130 - accuracy: 0.9975 - val_loss: 2.1452 - val_accuracy: 0.6071\n",
            "Epoch 211/250\n",
            "53/53 [==============================] - 5s 90ms/step - loss: 0.0615 - accuracy: 0.9872 - val_loss: 3.3552 - val_accuracy: 0.4786\n",
            "Epoch 212/250\n",
            "53/53 [==============================] - 5s 91ms/step - loss: 0.0290 - accuracy: 0.9894 - val_loss: 2.1317 - val_accuracy: 0.6310\n",
            "Epoch 213/250\n",
            "53/53 [==============================] - 5s 90ms/step - loss: 0.0113 - accuracy: 0.9968 - val_loss: 2.0971 - val_accuracy: 0.6405\n",
            "Epoch 214/250\n",
            "53/53 [==============================] - 5s 91ms/step - loss: 0.0463 - accuracy: 0.9894 - val_loss: 2.2915 - val_accuracy: 0.5905\n",
            "Epoch 215/250\n",
            "53/53 [==============================] - 5s 90ms/step - loss: 0.0268 - accuracy: 0.9934 - val_loss: 2.6099 - val_accuracy: 0.5619\n",
            "Epoch 216/250\n",
            "53/53 [==============================] - 5s 91ms/step - loss: 0.0311 - accuracy: 0.9906 - val_loss: 2.2061 - val_accuracy: 0.6381\n",
            "Epoch 217/250\n",
            "53/53 [==============================] - 5s 91ms/step - loss: 0.0039 - accuracy: 0.9999 - val_loss: 2.7965 - val_accuracy: 0.5357\n",
            "Epoch 218/250\n",
            "53/53 [==============================] - 5s 90ms/step - loss: 0.0285 - accuracy: 0.9903 - val_loss: 2.1171 - val_accuracy: 0.6262\n",
            "Epoch 219/250\n",
            "53/53 [==============================] - 5s 90ms/step - loss: 0.0142 - accuracy: 0.9959 - val_loss: 1.9774 - val_accuracy: 0.6214\n",
            "Epoch 220/250\n",
            "53/53 [==============================] - 5s 90ms/step - loss: 0.0074 - accuracy: 0.9988 - val_loss: 2.0425 - val_accuracy: 0.6333\n",
            "Epoch 221/250\n",
            "53/53 [==============================] - 5s 90ms/step - loss: 0.0292 - accuracy: 0.9965 - val_loss: 2.4800 - val_accuracy: 0.5952\n",
            "Epoch 222/250\n",
            "53/53 [==============================] - 5s 91ms/step - loss: 0.0155 - accuracy: 0.9949 - val_loss: 2.4983 - val_accuracy: 0.5738\n",
            "Epoch 223/250\n",
            "53/53 [==============================] - 5s 90ms/step - loss: 0.0075 - accuracy: 0.9976 - val_loss: 2.2540 - val_accuracy: 0.6119\n",
            "Epoch 224/250\n",
            "53/53 [==============================] - 5s 91ms/step - loss: 0.0096 - accuracy: 0.9959 - val_loss: 2.2935 - val_accuracy: 0.6214\n",
            "Epoch 225/250\n",
            "53/53 [==============================] - 5s 91ms/step - loss: 0.0143 - accuracy: 0.9943 - val_loss: 2.3377 - val_accuracy: 0.5976\n",
            "Epoch 226/250\n",
            "53/53 [==============================] - 5s 91ms/step - loss: 0.0354 - accuracy: 0.9954 - val_loss: 1.9944 - val_accuracy: 0.6214\n",
            "Epoch 227/250\n",
            "53/53 [==============================] - 5s 90ms/step - loss: 0.0081 - accuracy: 0.9980 - val_loss: 1.8626 - val_accuracy: 0.6500\n",
            "Epoch 228/250\n",
            "53/53 [==============================] - 5s 90ms/step - loss: 0.0082 - accuracy: 0.9992 - val_loss: 2.4165 - val_accuracy: 0.6071\n",
            "Epoch 229/250\n",
            "53/53 [==============================] - 5s 91ms/step - loss: 0.0185 - accuracy: 0.9939 - val_loss: 2.4942 - val_accuracy: 0.5762\n",
            "Epoch 230/250\n",
            "53/53 [==============================] - 5s 91ms/step - loss: 0.0054 - accuracy: 0.9992 - val_loss: 2.2613 - val_accuracy: 0.6238\n",
            "Epoch 231/250\n",
            "53/53 [==============================] - 5s 91ms/step - loss: 0.0084 - accuracy: 0.9978 - val_loss: 2.1407 - val_accuracy: 0.6357\n",
            "Epoch 232/250\n",
            "53/53 [==============================] - 5s 90ms/step - loss: 0.0101 - accuracy: 0.9985 - val_loss: 2.1552 - val_accuracy: 0.6357\n",
            "Epoch 233/250\n",
            "53/53 [==============================] - 5s 91ms/step - loss: 0.0152 - accuracy: 0.9945 - val_loss: 2.7717 - val_accuracy: 0.5548\n",
            "Epoch 234/250\n",
            "53/53 [==============================] - 5s 91ms/step - loss: 0.0294 - accuracy: 0.9915 - val_loss: 2.0594 - val_accuracy: 0.6452\n",
            "Epoch 235/250\n",
            "53/53 [==============================] - 5s 91ms/step - loss: 0.0053 - accuracy: 0.9988 - val_loss: 2.0409 - val_accuracy: 0.6452\n",
            "Epoch 236/250\n",
            "53/53 [==============================] - 5s 91ms/step - loss: 0.0102 - accuracy: 0.9972 - val_loss: 2.1914 - val_accuracy: 0.6214\n",
            "Epoch 237/250\n",
            "53/53 [==============================] - 5s 91ms/step - loss: 0.0182 - accuracy: 0.9948 - val_loss: 2.1812 - val_accuracy: 0.6286\n",
            "Epoch 238/250\n",
            "53/53 [==============================] - 5s 91ms/step - loss: 0.0514 - accuracy: 0.9848 - val_loss: 2.1071 - val_accuracy: 0.6381\n",
            "Epoch 239/250\n",
            "53/53 [==============================] - 5s 90ms/step - loss: 0.0033 - accuracy: 0.9991 - val_loss: 2.3230 - val_accuracy: 0.6238\n",
            "Epoch 240/250\n",
            "53/53 [==============================] - 5s 90ms/step - loss: 0.0058 - accuracy: 0.9980 - val_loss: 2.5554 - val_accuracy: 0.5643\n",
            "Epoch 241/250\n",
            "53/53 [==============================] - 5s 90ms/step - loss: 0.0381 - accuracy: 0.9929 - val_loss: 2.2447 - val_accuracy: 0.6024\n",
            "Epoch 242/250\n",
            "53/53 [==============================] - 5s 90ms/step - loss: 0.0085 - accuracy: 0.9976 - val_loss: 2.2420 - val_accuracy: 0.6429\n",
            "Epoch 243/250\n",
            "53/53 [==============================] - 5s 91ms/step - loss: 0.0040 - accuracy: 0.9991 - val_loss: 2.6672 - val_accuracy: 0.5643\n",
            "Epoch 244/250\n",
            "53/53 [==============================] - 5s 90ms/step - loss: 0.0421 - accuracy: 0.9881 - val_loss: 2.8266 - val_accuracy: 0.5690\n",
            "Epoch 245/250\n",
            "53/53 [==============================] - 5s 91ms/step - loss: 0.0226 - accuracy: 0.9938 - val_loss: 2.1448 - val_accuracy: 0.6357\n",
            "Epoch 246/250\n",
            "53/53 [==============================] - 5s 91ms/step - loss: 0.0135 - accuracy: 0.9962 - val_loss: 2.0875 - val_accuracy: 0.6476\n",
            "Epoch 247/250\n",
            "53/53 [==============================] - 5s 90ms/step - loss: 0.0330 - accuracy: 0.9900 - val_loss: 2.1992 - val_accuracy: 0.6119\n",
            "Epoch 248/250\n",
            "53/53 [==============================] - 5s 90ms/step - loss: 0.0160 - accuracy: 0.9926 - val_loss: 2.8665 - val_accuracy: 0.5405\n",
            "Epoch 249/250\n",
            "53/53 [==============================] - 5s 91ms/step - loss: 0.0230 - accuracy: 0.9917 - val_loss: 2.1041 - val_accuracy: 0.6429\n",
            "Epoch 250/250\n",
            "53/53 [==============================] - 5s 90ms/step - loss: 0.0135 - accuracy: 0.9962 - val_loss: 2.4271 - val_accuracy: 0.6214\n",
            "time: 20min 18s (started: 2021-05-10 03:47:07 +00:00)\n"
          ],
          "name": "stdout"
        }
      ]
    },
    {
      "cell_type": "code",
      "metadata": {
        "colab": {
          "base_uri": "https://localhost:8080/"
        },
        "id": "C5G_vfXSGx8l",
        "outputId": "907754a0-d5b0-41a8-80f9-593f86d5b74d"
      },
      "source": [
        "cnn_model.save(os.path.join(os.getcwd(),'model-landuse-4a-cnn.h5'))"
      ],
      "execution_count": null,
      "outputs": [
        {
          "output_type": "stream",
          "text": [
            "time: 179 ms (started: 2021-05-10 04:07:25 +00:00)\n"
          ],
          "name": "stdout"
        }
      ]
    },
    {
      "cell_type": "code",
      "metadata": {
        "colab": {
          "base_uri": "https://localhost:8080/"
        },
        "id": "4ctc6oWj5gyR",
        "outputId": "5c35cb81-2298-4796-c67d-68b3eea4334e"
      },
      "source": [
        "feature_extractor.save(os.path.join(os.getcwd(),'model-landuse-4-feature-extractor.h5'))"
      ],
      "execution_count": null,
      "outputs": [
        {
          "output_type": "stream",
          "text": [
            "time: 75.9 ms (started: 2021-05-10 04:07:25 +00:00)\n"
          ],
          "name": "stdout"
        }
      ]
    },
    {
      "cell_type": "code",
      "metadata": {
        "colab": {
          "base_uri": "https://localhost:8080/",
          "height": 591
        },
        "id": "1e1AXlcSNxML",
        "outputId": "c77ffc5f-e0cf-4589-bd02-00627e2074c1"
      },
      "source": [
        "import matplotlib.pyplot as plt\n",
        "import matplotlib.image as mpimg\n",
        "\n",
        "loss = history.history['loss']\n",
        "val_loss = history.history['val_loss']\n",
        "epochs = range(1, len(loss) + 1)\n",
        "plt.plot(epochs, loss, 'y', label='Training loss')\n",
        "plt.plot(epochs, val_loss, 'r', label='Validation loss')\n",
        "plt.title('Training and validation loss')\n",
        "plt.xlabel('Epochs')\n",
        "plt.ylabel('Loss')\n",
        "plt.legend()\n",
        "plt.show()\n",
        "\n",
        "acc = history.history['accuracy']\n",
        "val_acc = history.history['val_accuracy']\n",
        "plt.plot(epochs, acc, 'y', label='Training acc')\n",
        "plt.plot(epochs, val_acc, 'r', label='Validation acc')\n",
        "plt.title('Training and validation accuracy')\n",
        "plt.xlabel('Epochs')\n",
        "plt.ylabel('Accuracy')\n",
        "plt.legend()\n",
        "plt.show()"
      ],
      "execution_count": null,
      "outputs": [
        {
          "output_type": "display_data",
          "data": {
            "image/png": "[encoded data removed]",
            "text/plain": [
              "<Figure size 432x288 with 1 Axes>"
            ]
          },
          "metadata": {
            "tags": [],
            "needs_background": "light"
          }
        },
        {
          "output_type": "display_data",
          "data": {
            "image/png": "[encoded data removed]",
            "text/plain": [
              "<Figure size 432x288 with 1 Axes>"
            ]
          },
          "metadata": {
            "tags": [],
            "needs_background": "light"
          }
        },
        {
          "output_type": "stream",
          "text": [
            "time: 378 ms (started: 2021-05-10 04:07:25 +00:00)\n"
          ],
          "name": "stdout"
        }
      ]
    },
    {
      "cell_type": "code",
      "metadata": {
        "colab": {
          "base_uri": "https://localhost:8080/"
        },
        "id": "waYi5vGW4fAZ",
        "outputId": "839f71a2-5b0b-45bd-b1e8-b6d37bb9fc10"
      },
      "source": [
        "print(y_train_backup.shape)"
      ],
      "execution_count": null,
      "outputs": [
        {
          "output_type": "stream",
          "text": [
            "(1680, 1)\n",
            "time: 2.09 ms (started: 2021-05-10 04:07:26 +00:00)\n"
          ],
          "name": "stdout"
        }
      ]
    },
    {
      "cell_type": "code",
      "metadata": {
        "colab": {
          "base_uri": "https://localhost:8080/"
        },
        "id": "yK5BJvw23k2d",
        "outputId": "72d8a2a8-898c-4dcf-84a7-e9c034dac641"
      },
      "source": [
        "#Creating input for the random forest model\n",
        "feature_extractor=load_model('model-landuse-4-feature-extractor.h5')\n",
        "X_random_forest = feature_extractor.predict(X_train)\n",
        "\n",
        "from sklearn.ensemble import RandomForestClassifier\n",
        "rf_model = RandomForestClassifier(n_estimators = 100, random_state = 42)"
      ],
      "execution_count": null,
      "outputs": [
        {
          "output_type": "stream",
          "text": [
            "WARNING:tensorflow:No training configuration found in the save file, so the model was *not* compiled. Compile it manually.\n",
            "time: 2.75 s (started: 2021-05-10 04:07:26 +00:00)\n"
          ],
          "name": "stdout"
        }
      ]
    },
    {
      "cell_type": "code",
      "metadata": {
        "colab": {
          "base_uri": "https://localhost:8080/"
        },
        "id": "Dhq9YXK_4z1f",
        "outputId": "b24f7eae-bd06-42cd-c56c-067b1f43fc20"
      },
      "source": [
        "rf_model.fit(X_random_forest, y_train_backup)"
      ],
      "execution_count": null,
      "outputs": [
        {
          "output_type": "stream",
          "text": [
            "/usr/local/lib/python3.7/dist-packages/ipykernel_launcher.py:1: DataConversionWarning: A column-vector y was passed when a 1d array was expected. Please change the shape of y to (n_samples,), for example using ravel().\n",
            "  \"\"\"Entry point for launching an IPython kernel.\n"
          ],
          "name": "stderr"
        },
        {
          "output_type": "execute_result",
          "data": {
            "text/plain": [
              "RandomForestClassifier(bootstrap=True, ccp_alpha=0.0, class_weight=None,\n",
              "                       criterion='gini', max_depth=None, max_features='auto',\n",
              "                       max_leaf_nodes=None, max_samples=None,\n",
              "                       min_impurity_decrease=0.0, min_impurity_split=None,\n",
              "                       min_samples_leaf=1, min_samples_split=2,\n",
              "                       min_weight_fraction_leaf=0.0, n_estimators=100,\n",
              "                       n_jobs=None, oob_score=False, random_state=42, verbose=0,\n",
              "                       warm_start=False)"
            ]
          },
          "metadata": {
            "tags": []
          },
          "execution_count": 17
        },
        {
          "output_type": "stream",
          "text": [
            "time: 12.6 s (started: 2021-05-10 04:07:29 +00:00)\n"
          ],
          "name": "stdout"
        }
      ]
    },
    {
      "cell_type": "code",
      "metadata": {
        "colab": {
          "base_uri": "https://localhost:8080/"
        },
        "id": "oVmVEfnB65Yo",
        "outputId": "6f643721-a7fd-4b9b-f026-6f8ae419202f"
      },
      "source": [
        "import joblib\n",
        "\n",
        "joblib.dump(rf_model,os.path.join(os.getcwd(),'model-landuse-4b-rn.joblib'))\n",
        "\n",
        "rf_model=joblib.load(\"model-landuse-4b-rn.joblib\")\n",
        "\n",
        "X_test_feature = feature_extractor.predict(X_valid)\n",
        "#Now predict using the trained RF model. \n",
        "prediction_RF = rf_model.predict(X_test_feature)\n"
      ],
      "execution_count": null,
      "outputs": [
        {
          "output_type": "stream",
          "text": [
            "10\n",
            "time: 728 ms (started: 2021-05-10 04:07:41 +00:00)\n"
          ],
          "name": "stdout"
        }
      ]
    },
    {
      "cell_type": "code",
      "metadata": {
        "colab": {
          "base_uri": "https://localhost:8080/"
        },
        "id": "gsDTrnJEeahX",
        "outputId": "592cc985-b88e-4f5b-993e-ede94e3d9fcf"
      },
      "source": [
        "from sklearn.metrics import accuracy_score,precision_score,recall_score,f1_score\n",
        "\n",
        "print('Accuracy:', accuracy_score(y_valid_backup,prediction_RF))\n",
        "print('Precision:', precision_score(y_valid_backup,prediction_RF,average='weighted'))\n",
        "print('Recall:', recall_score(y_valid_backup,prediction_RF,average='weighted'))\n",
        "print('F1 score:', f1_score(y_valid_backup,prediction_RF,average='weighted'))"
      ],
      "execution_count": null,
      "outputs": [
        {
          "output_type": "stream",
          "text": [
            "Accuracy: 0.6\n",
            "Precision: 0.5988459592482148\n",
            "Recall: 0.6\n",
            "F1 score: 0.5904202439283837\n",
            "time: 13.9 ms (started: 2021-05-10 04:17:05 +00:00)\n"
          ],
          "name": "stdout"
        }
      ]
    },
    {
      "cell_type": "code",
      "metadata": {
        "colab": {
          "base_uri": "https://localhost:8080/"
        },
        "id": "Fp_Jo1s-g3z4",
        "outputId": "88b72278-91bc-40ca-99ba-245352cab7a0"
      },
      "source": [
        "y_train_pred=rf_model.predict(X_random_forest)"
      ],
      "execution_count": null,
      "outputs": [
        {
          "output_type": "stream",
          "text": [
            "time: 135 ms (started: 2021-05-10 04:23:18 +00:00)\n"
          ],
          "name": "stdout"
        }
      ]
    },
    {
      "cell_type": "code",
      "metadata": {
        "colab": {
          "base_uri": "https://localhost:8080/"
        },
        "id": "AFTjdytYg_IS",
        "outputId": "784d5225-6331-4236-8ed2-b99f198f71b0"
      },
      "source": [
        "print('Accuracy:', accuracy_score(y_train_backup,y_train_pred))\n",
        "print('Precision:', precision_score(y_valid_backup,prediction_RF,average='weighted'))\n",
        "print('Recall:', recall_score(y_valid_backup,prediction_RF,average='weighted'))\n",
        "print('F1 score:', f1_score(y_valid_backup,prediction_RF,average='weighted'))"
      ],
      "execution_count": null,
      "outputs": [
        {
          "output_type": "stream",
          "text": [
            "Accuracy: 1.0\n",
            "Precision: 0.5988459592482148\n",
            "Recall: 0.6\n",
            "F1 score: 0.5904202439283837\n",
            "time: 10.2 ms (started: 2021-05-10 04:24:11 +00:00)\n"
          ],
          "name": "stdout"
        }
      ]
    },
    {
      "cell_type": "code",
      "metadata": {
        "colab": {
          "base_uri": "https://localhost:8080/",
          "height": 156,
          "referenced_widgets": [
            "2d2db1d713f74667b46c979e0c43aaa5",
            "32716593c5604560b61c15809ee430c1",
            "6a5ccdd2a00c41378a94d445a310b226",
            "1750dd89bc324fe5ba7cb70cbccdfcb5",
            "529f91f6ce8d4a6fb077a72302418e00",
            "3e9a1adddf7c490d9acd6d53f3f02550",
            "f83a64c5eb89453aaa8796bbd1dda4ce",
            "4e4b9c64b82c431696e929ee4dfa3928"
          ]
        },
        "id": "qpldWOFWi2b2",
        "outputId": "ff355ea6-854f-4afc-f31f-5f3b673282e4"
      },
      "source": [
        "from tqdm import tqdm_notebook, tnrange\n",
        "\n",
        "X=list()\n",
        "y=list()\n",
        "\n",
        "for n,val in tqdm_notebook(enumerate(train_data), total=len(train_data)):\n",
        "  img = cv2.imread(train_data[n])\n",
        "  img = cv2.resize(img, (IMG_WIDTH, IMG_HEIGHT))\n",
        "  X.append(img)\n",
        "  \n",
        "X=np.array(X)\n",
        "y=np.array(target_data)"
      ],
      "execution_count": null,
      "outputs": [
        {
          "output_type": "stream",
          "text": [
            "/usr/local/lib/python3.7/dist-packages/ipykernel_launcher.py:6: TqdmDeprecationWarning: This function will be removed in tqdm==5.0.0\n",
            "Please use `tqdm.notebook.tqdm` instead of `tqdm.tqdm_notebook`\n",
            "  \n"
          ],
          "name": "stderr"
        },
        {
          "output_type": "display_data",
          "data": {
            "application/vnd.jupyter.widget-view+json": {
              "model_id": "2d2db1d713f74667b46c979e0c43aaa5",
              "version_minor": 0,
              "version_major": 2
            },
            "text/plain": [
              "HBox(children=(FloatProgress(value=0.0, max=2100.0), HTML(value='')))"
            ]
          },
          "metadata": {
            "tags": []
          }
        },
        {
          "output_type": "stream",
          "text": [
            "\n",
            "time: 6.03 s (started: 2021-05-10 04:41:07 +00:00)\n"
          ],
          "name": "stdout"
        }
      ]
    },
    {
      "cell_type": "code",
      "metadata": {
        "colab": {
          "base_uri": "https://localhost:8080/"
        },
        "id": "VmKI2Pl5lLWb",
        "outputId": "eda83950-1169-4091-a253-4f41e0c50906"
      },
      "source": [
        "X_train, X_valid, y_train, y_valid = train_test_split(X,y, random_state=42, test_size = 0.2 )\n",
        "\n",
        "y_train_backup=np.array(y_train)\n",
        "y_valid_backup=np.array(y_valid)\n",
        "\n",
        "print(X_train.shape)\n",
        "print(y_train.shape)\n"
      ],
      "execution_count": null,
      "outputs": [
        {
          "output_type": "stream",
          "text": [
            "(1680, 256, 256, 3)\n",
            "(1680, 1)\n",
            "time: 97.2 ms (started: 2021-05-10 04:41:45 +00:00)\n"
          ],
          "name": "stdout"
        }
      ]
    },
    {
      "cell_type": "code",
      "metadata": {
        "colab": {
          "base_uri": "https://localhost:8080/"
        },
        "id": "dSxRaP2dlMzz",
        "outputId": "2297e973-322e-473f-fec0-c5bc8b0674b4"
      },
      "source": [
        "from keras.utils import normalize, to_categorical\n",
        "\n",
        "X_train = X_train/255.0\n",
        "X_valid = X_valid/255.0\n",
        "\n",
        "y_train = to_categorical(y_train)\n",
        "y_valid = to_categorical(y_valid)"
      ],
      "execution_count": null,
      "outputs": [
        {
          "output_type": "stream",
          "text": [
            "time: 563 ms (started: 2021-05-10 04:42:37 +00:00)\n"
          ],
          "name": "stdout"
        }
      ]
    },
    {
      "cell_type": "code",
      "metadata": {
        "colab": {
          "base_uri": "https://localhost:8080/"
        },
        "id": "EUE1Mn02lZ8K",
        "outputId": "889bdddf-0544-4f83-8359-a5cda2e7ae41"
      },
      "source": [
        "cnn_model=load_model('model-landuse-4a-cnn.h5')"
      ],
      "execution_count": null,
      "outputs": [
        {
          "output_type": "stream",
          "text": [
            "time: 395 ms (started: 2021-05-10 04:44:35 +00:00)\n"
          ],
          "name": "stdout"
        }
      ]
    },
    {
      "cell_type": "code",
      "metadata": {
        "id": "_70Od_wWl2nJ"
      },
      "source": [
        "y_train_pred=cnn_model.predict(X_train)\n",
        "y_train_pred=np.argmax(y_train_pred,axis=-1)\n",
        "print(y_train_pred)\n",
        "\n",
        "y_valid_pred=cnn_model.predict(X_valid)\n",
        "y_valid_pred=np.argmax(y_valid_pred,axis=-1)\n",
        "print(y_valid_pred)"
      ],
      "execution_count": null,
      "outputs": []
    },
    {
      "cell_type": "code",
      "metadata": {
        "colab": {
          "base_uri": "https://localhost:8080/"
        },
        "id": "31Kx8ILBmojg",
        "outputId": "ee17e73b-b725-4d9a-b6b0-899f8a992889"
      },
      "source": [
        "print(y_train_pred.shape)\n",
        "print(y_valid_pred.shape)"
      ],
      "execution_count": null,
      "outputs": [
        {
          "output_type": "stream",
          "text": [
            "(1680,)\n",
            "(420,)\n",
            "time: 1.55 ms (started: 2021-05-10 04:48:23 +00:00)\n"
          ],
          "name": "stdout"
        }
      ]
    },
    {
      "cell_type": "code",
      "metadata": {
        "colab": {
          "base_uri": "https://localhost:8080/"
        },
        "id": "KxjORja2mv71",
        "outputId": "4c64f8e5-f17c-4156-d3d5-7637465a212b"
      },
      "source": [
        "y_train=np.argmax(y_train,axis=-1)\n",
        "y_valid=np.argmax(y_valid,axis=-1)\n",
        "\n",
        "print(y_train.shape)\n",
        "print(y_valid.shape)"
      ],
      "execution_count": null,
      "outputs": [
        {
          "output_type": "stream",
          "text": [
            "(1680,)\n",
            "(420,)\n",
            "time: 2.45 ms (started: 2021-05-10 04:49:22 +00:00)\n"
          ],
          "name": "stdout"
        }
      ]
    },
    {
      "cell_type": "code",
      "metadata": {
        "colab": {
          "base_uri": "https://localhost:8080/"
        },
        "id": "bxNvCZfpm8mg",
        "outputId": "0ff5d18a-8887-4366-b4cd-d2d874f4f7b7"
      },
      "source": [
        "print('Accuracy:', accuracy_score(y_train,y_train_pred))\n",
        "print('Precision:', precision_score(y_train,y_train_pred,average='weighted'))\n",
        "print('Recall:', recall_score(y_train,y_train_pred,average='weighted'))\n",
        "print('F1 score:', f1_score(y_train,y_train_pred,average='weighted'))"
      ],
      "execution_count": null,
      "outputs": [
        {
          "output_type": "stream",
          "text": [
            "Accuracy: 0.9809523809523809\n",
            "Precision: 0.9821156881243172\n",
            "Recall: 0.9809523809523809\n",
            "F1 score: 0.9810343015046826\n",
            "time: 11.3 ms (started: 2021-05-10 04:51:08 +00:00)\n"
          ],
          "name": "stdout"
        }
      ]
    },
    {
      "cell_type": "code",
      "metadata": {
        "colab": {
          "base_uri": "https://localhost:8080/"
        },
        "id": "tiwKdR9bnXzT",
        "outputId": "dee06fce-ca48-4781-db7f-81a7b95cd6e1"
      },
      "source": [
        "print('Accuracy:', accuracy_score(y_valid,y_valid_pred))\n",
        "print('Precision:', precision_score(y_valid,y_valid_pred,average='weighted'))\n",
        "print('Recall:', recall_score(y_valid,y_valid_pred,average='weighted'))\n",
        "print('F1 score:', f1_score(y_valid,y_valid_pred,average='weighted'))"
      ],
      "execution_count": null,
      "outputs": [
        {
          "output_type": "stream",
          "text": [
            "Accuracy: 0.6214285714285714\n",
            "Precision: 0.6329367360054532\n",
            "Recall: 0.6214285714285714\n",
            "F1 score: 0.6196154893072767\n",
            "time: 10.4 ms (started: 2021-05-10 04:52:07 +00:00)\n"
          ],
          "name": "stdout"
        }
      ]
    }
  ]
}